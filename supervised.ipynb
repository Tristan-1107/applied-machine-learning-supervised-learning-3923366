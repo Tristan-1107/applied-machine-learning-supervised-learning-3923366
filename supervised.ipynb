{
 "cells": [
  {
   "cell_type": "markdown",
   "id": "fc75f5dc",
   "metadata": {
    "lines_to_next_cell": 0
   },
   "source": [
    "# 1. Introduction to Supervised Learning\n"
   ]
  },
  {
   "cell_type": "markdown",
   "id": "68b94a80",
   "metadata": {
    "lines_to_next_cell": 0
   },
   "source": [
    "# 1.1 What is Supervised Learning?\n",
    "\n",
    "Supervised learning is a machine learning type where an algorithm learns from labeled data (input features with correct outputs). The goal is to predict outputs for new, unseen data.\n",
    "\n",
    "Think of it as learning with a teacher: the algorithm learns from examples to find patterns, then applies this knowledge to new problems.\n",
    "\n",
    "**Examples:**\n",
    "\n",
    "*   **Predicting House Prices:** Predict price based on features like square footage.\n",
    "*   **Classifying Emails:** Determine if an email is spam or not.\n",
    "*   **Diagnosing Diseases:** Predict disease based on symptoms.\n"
   ]
  },
  {
   "cell_type": "markdown",
   "id": "b072d520",
   "metadata": {
    "lines_to_next_cell": 0
   },
   "source": [
    "# 1.2 Data: Features, Labels, Training Sets\n",
    "\n",
    "Supervised learning requires specific data types:\n",
    "\n",
    "*   **Features (Inputs):** Attributes describing each data point, used by the model for prediction.\n",
    "    *   *Example (House Prices):* Square footage, bedrooms.\n",
    "*   **Labels (Outputs):** The target variable the model predicts.\n",
    "    *   *Example (House Prices):* Actual selling price.\n",
    "*   **Training Set:** Labeled data used by the algorithm to learn relationships between features and labels.\n",
    "\n",
    "We'll also discuss \"test sets\" and \"validation sets\" for model evaluation and tuning.\n"
   ]
  },
  {
   "cell_type": "markdown",
   "id": "867e99dc",
   "metadata": {
    "lines_to_next_cell": 0
   },
   "source": [
    "# 1.3 Metrics for Classification & Regression\n",
    "\n",
    "Model evaluation depends on the problem type: **classification** or **regression**.\n",
    "\n",
    "## Classification Metrics\n",
    "\n",
    "Classification models predict discrete categories (e.g., spam/not spam).\n",
    "\n",
    "Common metrics:\n",
    "\n",
    "*   **Accuracy:** Proportion of correct predictions.\n",
    "*   **Precision:** Of predicted positives, how many were actual positives.\n",
    "*   **Recall (Sensitivity):** Of actual positives, how many were identified.\n",
    "*   **F1-Score:** Harmonic mean of precision and recall.\n",
    "*   **Confusion Matrix:** Table summarizing true/false positives/negatives.\n",
    "*   **ROC-AUC:** Measures performance across thresholds.\n",
    "*   **Brier Score:** Evaluates probabilistic predictions.\n",
    "\n",
    "## Regression Metrics\n",
    "\n",
    "Regression models predict continuous numerical values (e.g., house price).\n",
    "\n",
    "Common metrics:\n",
    "\n",
    "*   **Mean Absolute Error (MAE):** Average absolute difference between predicted and actual values.\n",
    "*   **Mean Squared Error (MSE):** Average squared difference, penalizes larger errors.\n",
    "*   **Root Mean Squared Error (RMSE):** Square root of MSE, in same units as target.\n",
    "*   **R-squared (R²):** Proportion of target variance explained by features.\n",
    "\n",
    "Choosing the right metric is crucial for model optimization.\n"
   ]
  },
  {
   "cell_type": "markdown",
   "id": "bba60f8a",
   "metadata": {
    "lines_to_next_cell": 0
   },
   "source": [
    "# 1.4 Challenge: Quiz: Classification or Regression\n",
    "\n",
    "\n"
   ]
  },
  {
   "cell_type": "markdown",
   "id": "bca15e3a",
   "metadata": {
    "lines_to_next_cell": 0
   },
   "source": [
    "# 2. Linear Regression\n",
    "\n",
    "# 2.1 What is Linear Regression?\n",
    "\n",
    "Linear Regression is a fundamental supervised learning algorithm for **regression tasks**, predicting a **continuous numerical value** based on input features. It assumes a linear relationship.\n",
    "\n",
    "The goal is to find the \"best-fit\" line (or hyperplane) that minimizes the squared differences between actual and predicted values.\n",
    "\n",
    "## The Linear Equation\n",
    "\n",
    "For a single feature:\n",
    "\n",
    "$$ y = mx + b $$\n",
    "\n",
    "Where:\n",
    "*   $y$: predicted label\n",
    "*   $x$: input feature\n",
    "*   $m$: slope (coefficient)\n",
    "*   $b$: y-intercept\n",
    "\n",
    "For multiple features:\n",
    "\n",
    "$$ y = b_0 + b_1x_1 + b_2x_2 + ... + b_nx_n $$\n",
    "\n",
    "Training involves finding optimal coefficients ($b_0$ through $b_n$) to minimize prediction errors.\n"
   ]
  },
  {
   "cell_type": "markdown",
   "id": "8daa2394",
   "metadata": {
    "lines_to_next_cell": 0
   },
   "source": [
    "# 2.2 Implementing Linear Regression in Python\n",
    "\n",
    "We'll use `scikit-learn` for implementation. First, a synthetic dataset.\n"
   ]
  },
  {
   "cell_type": "code",
   "execution_count": 4,
   "id": "481831a6",
   "metadata": {
    "lines_to_next_cell": 0
   },
   "outputs": [
    {
     "name": "stdout",
     "output_type": "stream",
     "text": [
      "First 5 rows of the synthetic dataset:\n",
      "    feature    target\n",
      "0  0.749080  6.334288\n",
      "1  1.901429  9.405278\n",
      "2  1.463988  8.483724\n",
      "3  1.197317  5.604382\n",
      "4  0.312037  4.716440\n"
     ]
    }
   ],
   "source": [
    "import pandas as pd\n",
    "import numpy as np\n",
    "from sklearn.model_selection import train_test_split\n",
    "from sklearn.linear_model import LinearRegression\n",
    "from sklearn.metrics import mean_absolute_error, mean_squared_error, r2_score\n",
    "# tell sklearn to output Pandas DataFrames\n",
    "from sklearn import set_config\n",
    "set_config(transform_output='pandas')\n",
    "\n",
    "# Generate a synthetic dataset\n",
    "np.random.seed(42)\n",
    "num_samples = 100\n",
    "X = 2 * np.random.rand(num_samples, 1) # A single feature\n",
    "y = 4 + 3 * X + np.random.randn(num_samples, 1) # Linear relationship with some noise\n",
    "\n",
    "# Create a DataFrame\n",
    "df = pd.DataFrame({'feature': X.flatten(), 'target': y.flatten()})\n",
    "\n",
    "print(\"First 5 rows of the synthetic dataset:\")\n",
    "print(df.head())\n",
    "#"
   ]
  },
  {
   "cell_type": "code",
   "execution_count": 2,
   "id": "39410514",
   "metadata": {
    "lines_to_next_cell": 2
   },
   "outputs": [
    {
     "data": {
      "text/plain": [
       "Text(0.5, 1.0, 'Synthetic Dataset: Feature vs Target')"
      ]
     },
     "execution_count": 2,
     "metadata": {},
     "output_type": "execute_result"
    },
    {
     "data": {
      "image/png": "[encoded data removed]",
      "text/plain": [
       "<Figure size 800x600 with 1 Axes>"
      ]
     },
     "metadata": {},
     "output_type": "display_data"
    }
   ],
   "source": [
    "# visualize the dataset\n",
    "import matplotlib.pyplot as plt\n",
    "\n",
    "fig, ax = plt.subplots(figsize=(8, 6))\n",
    "\n",
    "df.plot(kind='scatter', x='feature', y='target', ax=ax, color='blue', alpha=0.5)\n",
    "plt.title('Synthetic Dataset: Feature vs Target')"
   ]
  },
  {
   "cell_type": "code",
   "execution_count": 3,
   "id": "fb296da2",
   "metadata": {},
   "outputs": [
    {
     "name": "stderr",
     "output_type": "stream",
     "text": [
      "/workspaces/applied-machine-learning-supervised-learning-3923366/.venv/lib/python3.10/site-packages/sklearn/utils/validation.py:2749: UserWarning: X does not have valid feature names, but LinearRegression was fitted with feature names\n",
      "  warnings.warn(\n"
     ]
    },
    {
     "data": {
      "text/plain": [
       "Text(1.2, 5.600152850765989, 'Slope: 2.77\\n rise for run of 1')"
      ]
     },
     "execution_count": 3,
     "metadata": {},
     "output_type": "execute_result"
    },
    {
     "data": {
      "image/png": "[encoded data removed]",
      "text/plain": [
       "<Figure size 800x600 with 1 Axes>"
      ]
     },
     "metadata": {},
     "output_type": "display_data"
    }
   ],
   "source": [
    "# make a model\n",
    "from sklearn.linear_model import LinearRegression\n",
    "\n",
    "model = LinearRegression()\n",
    "model.fit(df[['feature']], df['target'])\n",
    "\n",
    "# Plot the regression line\n",
    "\n",
    "fig, ax = plt.subplots(figsize=(8, 6))\n",
    "\n",
    "df.plot(kind='scatter', x='feature', y='target', ax=ax, color='blue', alpha=0.5)\n",
    "plt.title('Synthetic Dataset: Feature vs Target')\n",
    "\n",
    "\n",
    "x_line = np.linspace(df['feature'].min(), df['feature'].max(), 100).reshape(-1, 1)\n",
    "y_line = model.predict(x_line)\n",
    "ax.plot(x_line, y_line, color='red', linewidth=2, label='Regression Line')\n",
    "\n",
    "# annotate intercept\n",
    "ax.annotate(f'Intercept: {model.intercept_:.2f}', \n",
    "    xy=(0, model.intercept_),\n",
    "    xytext=(0.1, 0.5),\n",
    "    textcoords='axes fraction',\n",
    "    arrowprops=dict(facecolor='black', shrink=0.05),\n",
    "    fontsize=12, color='red')\n",
    "\n",
    "# draw edges of slope from 1 to 2\n",
    "ax.annotate(f'Slope: {model.coef_[0]:.2f}\\n rise for run of 1', \n",
    "    xy=(1, model.intercept_ + model.coef_[0]*.5),\n",
    "    xytext=(1.2, model.intercept_ + model.coef_[0]*.5),\n",
    "    verticalalignment='center',\n",
    "    arrowprops=dict(facecolor='black', #shrink=0.05,\n",
    "                    arrowstyle='-[,widthB=4.8',\n",
    "                    \n",
    "                    relpos=(0, 0.5)),\n",
    "    #xycoords='axes fraction', \n",
    "    fontsize=12, color='red')"
   ]
  },
  {
   "cell_type": "code",
   "execution_count": null,
   "id": "0e99f9db",
   "metadata": {},
   "outputs": [],
   "source": []
  },
  {
   "cell_type": "markdown",
   "id": "d29135ea",
   "metadata": {
    "lines_to_next_cell": 0
   },
   "source": [
    "## Splitting Data into Training and Testing Sets\n",
    "\n",
    "Split data into training and testing sets. The model learns from training data and is evaluated on unseen testing data to assess generalization.\n"
   ]
  },
  {
   "cell_type": "code",
   "execution_count": 5,
   "id": "0571884a",
   "metadata": {
    "lines_to_next_cell": 0
   },
   "outputs": [
    {
     "name": "stdout",
     "output_type": "stream",
     "text": [
      "Training set size: 80 samples\n",
      "Testing set size: 20 samples\n"
     ]
    }
   ],
   "source": [
    "# Define features (X) and target (y)\n",
    "X = df[['feature']]\n",
    "y = df['target']\n",
    "\n",
    "# Split the data into training and testing sets\n",
    "# test_size=0.2 means 20% of the data will be used for testing\n",
    "# random_state for reproducibility\n",
    "X_train, X_test, y_train, y_test = train_test_split(X, y, test_size=0.2, random_state=42)\n",
    "\n",
    "print(f\"Training set size: {len(X_train)} samples\")\n",
    "print(f\"Testing set size: {len(X_test)} samples\")"
   ]
  },
  {
   "cell_type": "code",
   "execution_count": null,
   "id": "fc9ba844",
   "metadata": {},
   "outputs": [],
   "source": []
  },
  {
   "cell_type": "markdown",
   "id": "10140f78",
   "metadata": {
    "lines_to_next_cell": 0
   },
   "source": [
    "## Training the Linear Regression Model\n",
    "\n",
    "Create and train a `LinearRegression` model using training data.\n"
   ]
  },
  {
   "cell_type": "code",
   "execution_count": 6,
   "id": "0671d393",
   "metadata": {},
   "outputs": [
    {
     "name": "stdout",
     "output_type": "stream",
     "text": [
      "Model trained. Intercept: 4.14, Coefficient: 2.80\n"
     ]
    }
   ],
   "source": [
    "# Create a Linear Regression model instance\n",
    "model = LinearRegression()\n",
    "#\n",
    "# Train the model using the training data\n",
    "model.fit(X_train, y_train)\n",
    "print(f\"Model trained. Intercept: {model.intercept_:.2f}, Coefficient: {model.coef_[0]:.2f}\")"
   ]
  },
  {
   "cell_type": "code",
   "execution_count": null,
   "id": "c3e62860",
   "metadata": {},
   "outputs": [],
   "source": []
  },
  {
   "cell_type": "markdown",
   "id": "df441b7c",
   "metadata": {
    "lines_to_next_cell": 0
   },
   "source": [
    "## Making Predictions\n",
    "\n",
    "Use the trained model to make predictions on the test set.\n"
   ]
  },
  {
   "cell_type": "code",
   "execution_count": 6,
   "id": "00ab2ec2",
   "metadata": {},
   "outputs": [
    {
     "data": {
      "text/html": [
       "<div>\n",
       "<style scoped>\n",
       "    .dataframe tbody tr th:only-of-type {\n",
       "        vertical-align: middle;\n",
       "    }\n",
       "\n",
       "    .dataframe tbody tr th {\n",
       "        vertical-align: top;\n",
       "    }\n",
       "\n",
       "    .dataframe thead th {\n",
       "        text-align: right;\n",
       "    }\n",
       "</style>\n",
       "<table border=\"1\" class=\"dataframe\">\n",
       "  <thead>\n",
       "    <tr style=\"text-align: right;\">\n",
       "      <th></th>\n",
       "      <th>feature</th>\n",
       "      <th>predicted</th>\n",
       "      <th>true</th>\n",
       "    </tr>\n",
       "  </thead>\n",
       "  <tbody>\n",
       "    <tr>\n",
       "      <th>83</th>\n",
       "      <td>0.127117</td>\n",
       "      <td>4.498754</td>\n",
       "      <td>5.037904</td>\n",
       "    </tr>\n",
       "    <tr>\n",
       "      <th>53</th>\n",
       "      <td>1.789655</td>\n",
       "      <td>9.152736</td>\n",
       "      <td>8.865488</td>\n",
       "    </tr>\n",
       "    <tr>\n",
       "      <th>70</th>\n",
       "      <td>1.544490</td>\n",
       "      <td>8.466439</td>\n",
       "      <td>7.396518</td>\n",
       "    </tr>\n",
       "    <tr>\n",
       "      <th>45</th>\n",
       "      <td>1.325045</td>\n",
       "      <td>7.852142</td>\n",
       "      <td>7.065746</td>\n",
       "    </tr>\n",
       "    <tr>\n",
       "      <th>44</th>\n",
       "      <td>0.517560</td>\n",
       "      <td>5.591731</td>\n",
       "      <td>6.343712</td>\n",
       "    </tr>\n",
       "    <tr>\n",
       "      <th>39</th>\n",
       "      <td>0.880305</td>\n",
       "      <td>6.607172</td>\n",
       "      <td>6.942462</td>\n",
       "    </tr>\n",
       "    <tr>\n",
       "      <th>22</th>\n",
       "      <td>0.584289</td>\n",
       "      <td>5.778528</td>\n",
       "      <td>5.757981</td>\n",
       "    </tr>\n",
       "    <tr>\n",
       "      <th>80</th>\n",
       "      <td>1.726207</td>\n",
       "      <td>8.975125</td>\n",
       "      <td>11.044395</td>\n",
       "    </tr>\n",
       "    <tr>\n",
       "      <th>10</th>\n",
       "      <td>0.041169</td>\n",
       "      <td>4.258159</td>\n",
       "      <td>5.038909</td>\n",
       "    </tr>\n",
       "    <tr>\n",
       "      <th>0</th>\n",
       "      <td>0.749080</td>\n",
       "      <td>6.239831</td>\n",
       "      <td>6.334288</td>\n",
       "    </tr>\n",
       "    <tr>\n",
       "      <th>18</th>\n",
       "      <td>0.863890</td>\n",
       "      <td>6.561221</td>\n",
       "      <td>6.199562</td>\n",
       "    </tr>\n",
       "    <tr>\n",
       "      <th>30</th>\n",
       "      <td>1.215090</td>\n",
       "      <td>7.544343</td>\n",
       "      <td>9.531455</td>\n",
       "    </tr>\n",
       "    <tr>\n",
       "      <th>73</th>\n",
       "      <td>1.630923</td>\n",
       "      <td>8.708394</td>\n",
       "      <td>9.189753</td>\n",
       "    </tr>\n",
       "    <tr>\n",
       "      <th>33</th>\n",
       "      <td>1.897771</td>\n",
       "      <td>9.455389</td>\n",
       "      <td>9.618867</td>\n",
       "    </tr>\n",
       "    <tr>\n",
       "      <th>90</th>\n",
       "      <td>0.239188</td>\n",
       "      <td>4.812479</td>\n",
       "      <td>5.539626</td>\n",
       "    </tr>\n",
       "    <tr>\n",
       "      <th>4</th>\n",
       "      <td>0.312037</td>\n",
       "      <td>5.016407</td>\n",
       "      <td>4.716440</td>\n",
       "    </tr>\n",
       "    <tr>\n",
       "      <th>76</th>\n",
       "      <td>1.542541</td>\n",
       "      <td>8.460984</td>\n",
       "      <td>7.947597</td>\n",
       "    </tr>\n",
       "    <tr>\n",
       "      <th>77</th>\n",
       "      <td>0.148089</td>\n",
       "      <td>4.557463</td>\n",
       "      <td>4.676522</td>\n",
       "    </tr>\n",
       "    <tr>\n",
       "      <th>12</th>\n",
       "      <td>1.664885</td>\n",
       "      <td>8.803466</td>\n",
       "      <td>8.464896</td>\n",
       "    </tr>\n",
       "    <tr>\n",
       "      <th>31</th>\n",
       "      <td>0.341048</td>\n",
       "      <td>5.097618</td>\n",
       "      <td>5.197723</td>\n",
       "    </tr>\n",
       "  </tbody>\n",
       "</table>\n",
       "</div>"
      ],
      "text/plain": [
       "     feature  predicted       true\n",
       "83  0.127117   4.498754   5.037904\n",
       "53  1.789655   9.152736   8.865488\n",
       "70  1.544490   8.466439   7.396518\n",
       "45  1.325045   7.852142   7.065746\n",
       "44  0.517560   5.591731   6.343712\n",
       "39  0.880305   6.607172   6.942462\n",
       "22  0.584289   5.778528   5.757981\n",
       "80  1.726207   8.975125  11.044395\n",
       "10  0.041169   4.258159   5.038909\n",
       "0   0.749080   6.239831   6.334288\n",
       "18  0.863890   6.561221   6.199562\n",
       "30  1.215090   7.544343   9.531455\n",
       "73  1.630923   8.708394   9.189753\n",
       "33  1.897771   9.455389   9.618867\n",
       "90  0.239188   4.812479   5.539626\n",
       "4   0.312037   5.016407   4.716440\n",
       "76  1.542541   8.460984   7.947597\n",
       "77  0.148089   4.557463   4.676522\n",
       "12  1.664885   8.803466   8.464896\n",
       "31  0.341048   5.097618   5.197723"
      ]
     },
     "execution_count": 6,
     "metadata": {},
     "output_type": "execute_result"
    }
   ],
   "source": [
    "y_pred = model.predict(X_test)\n",
    "\n",
    "(X_test\n",
    " .assign(predicted=y_pred,\n",
    "         true=y_test)\n",
    ")"
   ]
  },
  {
   "cell_type": "code",
   "execution_count": null,
   "id": "4c210194",
   "metadata": {},
   "outputs": [],
   "source": []
  },
  {
   "cell_type": "markdown",
   "id": "af1cb9ed",
   "metadata": {
    "lines_to_next_cell": 0
   },
   "source": [
    "# 2.3 Evaluating Linear Regression\n",
    "\n",
    "Evaluate linear regression using MAE, MSE, RMSE, and R-squared.\n",
    "\n",
    "## Interpreting the Metrics\n",
    "\n",
    "*   **MAE:** Average prediction error magnitude.\n",
    "*   **MSE:** Penalizes larger errors more.\n",
    "*   **RMSE:** Square root of MSE, in target units.\n",
    "*   **R²:** Proportion of target variance explained by the model.\n"
   ]
  },
  {
   "cell_type": "code",
   "execution_count": 7,
   "id": "295f201d",
   "metadata": {},
   "outputs": [
    {
     "name": "stdout",
     "output_type": "stream",
     "text": [
      "Mean Absolute Error (MAE): 0.59\n",
      "Mean Squared Error (MSE): 0.65\n",
      "Root Mean Squared Error (RMSE): 0.81\n",
      "R-squared (R²): 0.81\n"
     ]
    }
   ],
   "source": [
    "# Calculate evaluation metrics\n",
    "mae = mean_absolute_error(y_test, y_pred)\n",
    "mse = mean_squared_error(y_test, y_pred)\n",
    "rmse = np.sqrt(mse) # RMSE is the square root of MSE\n",
    "r2 = r2_score(y_test, y_pred)\n",
    "\n",
    "print(f\"Mean Absolute Error (MAE): {mae:.2f}\")\n",
    "print(f\"Mean Squared Error (MSE): {mse:.2f}\")\n",
    "print(f\"Root Mean Squared Error (RMSE): {rmse:.2f}\")\n",
    "print(f\"R-squared (R²): {r2:.2f}\")"
   ]
  },
  {
   "cell_type": "markdown",
   "id": "6b58c9a8",
   "metadata": {
    "lines_to_next_cell": 0
   },
   "source": []
  },
  {
   "cell_type": "markdown",
   "id": "278eb63d",
   "metadata": {
    "lines_to_next_cell": 0
   },
   "source": [
    "# 2.4 Challenge: Evaluate Linear Regression\n",
    "\n",
    "1.  Load the Ames Iowa Housing dataset from `https://github.com/mattharrison/datasets/raw/master/data/ames-housing-dataset.zip`.\n",
    "2.  Select `Gr Liv Area` as feature (X) and `SalePrice` as target (y).\n",
    "3.  Split data into training (80%) and testing (20%) sets (`random_state=42`).\n",
    "4.  Train a `LinearRegression` model.\n",
    "5.  Make predictions on test data.\n",
    "6.  Calculate and print MAE, RMSE, and R².\n",
    "\n"
   ]
  },
  {
   "cell_type": "code",
   "execution_count": 10,
   "id": "ecf46162",
   "metadata": {},
   "outputs": [],
   "source": [
    "import pandas as pd\n",
    "\n",
    "df = pd.read_csv('AmesHousing.csv')\n",
    "\n",
    "selected_columns = df[['Gr Liv Area', 'SalePrice']]\n",
    "\n",
    "X = selected_columns[['Gr Liv Area']]\n",
    "y = selected_columns['SalePrice']"
   ]
  },
  {
   "cell_type": "code",
   "execution_count": null,
   "id": "d6943999",
   "metadata": {},
   "outputs": [
    {
     "data": {
      "image/png": "[encoded data removed]",
      "text/plain": [
       "<Figure size 800x600 with 1 Axes>"
      ]
     },
     "metadata": {},
     "output_type": "display_data"
    }
   ],
   "source": [
    "\n",
    "import matplotlib.pyplot as plt\n",
    "\n",
    "# Visualisation des données : Gr Liv Area vs SalePrice\n",
    "fig, ax = plt.subplots(figsize=(8, 6))\n",
    "\n",
    "# Utiliser dfFull pour la visualisation\n",
    "df.plot(kind='scatter', x='Gr Liv Area', y='SalePrice', ax=ax, color='blue', alpha=0.5)\n",
    "\n",
    "# Ajouter un titre et des labels\n",
    "plt.title('Gr Liv Area vs SalePrice')\n",
    "plt.xlabel('Gr Liv Area')\n",
    "plt.ylabel('SalePrice')\n",
    "\n",
    "# Afficher le graphique\n",
    "plt.show()\n"
   ]
  },
  {
   "cell_type": "code",
   "execution_count": 12,
   "id": "96e7e492",
   "metadata": {},
   "outputs": [
    {
     "name": "stderr",
     "output_type": "stream",
     "text": [
      "/workspaces/applied-machine-learning-supervised-learning-3923366/.venv/lib/python3.10/site-packages/sklearn/utils/validation.py:2749: UserWarning: X does not have valid feature names, but LinearRegression was fitted with feature names\n",
      "  warnings.warn(\n"
     ]
    },
    {
     "data": {
      "text/plain": [
       "[<matplotlib.lines.Line2D at 0x7f4664e2f850>]"
      ]
     },
     "execution_count": 12,
     "metadata": {},
     "output_type": "execute_result"
    },
    {
     "data": {
      "image/png": "[encoded data removed]",
      "text/plain": [
       "<Figure size 800x600 with 1 Axes>"
      ]
     },
     "metadata": {},
     "output_type": "display_data"
    }
   ],
   "source": [
    "# make a model\n",
    "from sklearn.linear_model import LinearRegression\n",
    "\n",
    "model = LinearRegression()\n",
    "model.fit(df[['Gr Liv Area']], df['SalePrice'])\n",
    "\n",
    "# Plot the regression line\n",
    "\n",
    "fig, ax = plt.subplots(figsize=(8, 6))\n",
    "\n",
    "df.plot(kind='scatter', x='Gr Liv Area', y='SalePrice', ax=ax, color='blue', alpha=0.5)\n",
    "plt.title('Synthetic Dataset: Gr Liv Area vs SalePrice')\n",
    "\n",
    "\n",
    "x_line = np.linspace(df['Gr Liv Area'].min(), df['Gr Liv Area'].max(), 100).reshape(-1, 1)\n",
    "y_line = model.predict(x_line)\n",
    "ax.plot(x_line, y_line, color='red', linewidth=2, label='Regression Line')"
   ]
  },
  {
   "cell_type": "code",
   "execution_count": 13,
   "id": "69269f03",
   "metadata": {},
   "outputs": [
    {
     "name": "stdout",
     "output_type": "stream",
     "text": [
      "Training set size: 2344 samples\n",
      "Testing set size: 586 samples\n"
     ]
    }
   ],
   "source": [
    "# Define features (X) and target (y)\n",
    "X = df[['Gr Liv Area']]\n",
    "y = df['SalePrice']\n",
    "\n",
    "# Split the data into training and testing sets\n",
    "# test_size=0.2 means 20% of the data will be used for testing\n",
    "# random_state for reproducibility\n",
    "X_train, X_test, y_train, y_test = train_test_split(X, y, test_size=0.2, random_state=42)\n",
    "\n",
    "print(f\"Training set size: {len(X_train)} samples\")\n",
    "print(f\"Testing set size: {len(X_test)} samples\")"
   ]
  },
  {
   "cell_type": "code",
   "execution_count": 14,
   "id": "307b74bc",
   "metadata": {},
   "outputs": [
    {
     "name": "stdout",
     "output_type": "stream",
     "text": [
      "Model trained. Intercept: 19250.56, Coefficient: 106.73\n"
     ]
    }
   ],
   "source": [
    "# Create a Linear Regression model instance\n",
    "model = LinearRegression()\n",
    "#\n",
    "# Train the model using the training data\n",
    "model.fit(X_train, y_train)\n",
    "print(f\"Model trained. Intercept: {model.intercept_:.2f}, Coefficient: {model.coef_[0]:.2f}\")"
   ]
  },
  {
   "cell_type": "code",
   "execution_count": 15,
   "id": "36abeeed",
   "metadata": {},
   "outputs": [
    {
     "data": {
      "text/html": [
       "<div>\n",
       "<style scoped>\n",
       "    .dataframe tbody tr th:only-of-type {\n",
       "        vertical-align: middle;\n",
       "    }\n",
       "\n",
       "    .dataframe tbody tr th {\n",
       "        vertical-align: top;\n",
       "    }\n",
       "\n",
       "    .dataframe thead th {\n",
       "        text-align: right;\n",
       "    }\n",
       "</style>\n",
       "<table border=\"1\" class=\"dataframe\">\n",
       "  <thead>\n",
       "    <tr style=\"text-align: right;\">\n",
       "      <th></th>\n",
       "      <th>Gr Liv Area</th>\n",
       "      <th>predicted</th>\n",
       "      <th>true</th>\n",
       "    </tr>\n",
       "  </thead>\n",
       "  <tbody>\n",
       "    <tr>\n",
       "      <th>1357</th>\n",
       "      <td>1666</td>\n",
       "      <td>197061.331923</td>\n",
       "      <td>161000</td>\n",
       "    </tr>\n",
       "    <tr>\n",
       "      <th>2367</th>\n",
       "      <td>1030</td>\n",
       "      <td>129181.589291</td>\n",
       "      <td>116000</td>\n",
       "    </tr>\n",
       "    <tr>\n",
       "      <th>2822</th>\n",
       "      <td>1724</td>\n",
       "      <td>203251.622918</td>\n",
       "      <td>196500</td>\n",
       "    </tr>\n",
       "    <tr>\n",
       "      <th>2126</th>\n",
       "      <td>990</td>\n",
       "      <td>124912.423087</td>\n",
       "      <td>123600</td>\n",
       "    </tr>\n",
       "    <tr>\n",
       "      <th>1544</th>\n",
       "      <td>919</td>\n",
       "      <td>117334.653076</td>\n",
       "      <td>126000</td>\n",
       "    </tr>\n",
       "    <tr>\n",
       "      <th>...</th>\n",
       "      <td>...</td>\n",
       "      <td>...</td>\n",
       "      <td>...</td>\n",
       "    </tr>\n",
       "    <tr>\n",
       "      <th>2268</th>\n",
       "      <td>1146</td>\n",
       "      <td>141562.171280</td>\n",
       "      <td>187500</td>\n",
       "    </tr>\n",
       "    <tr>\n",
       "      <th>456</th>\n",
       "      <td>2492</td>\n",
       "      <td>285219.614021</td>\n",
       "      <td>552000</td>\n",
       "    </tr>\n",
       "    <tr>\n",
       "      <th>462</th>\n",
       "      <td>1405</td>\n",
       "      <td>169205.022447</td>\n",
       "      <td>173000</td>\n",
       "    </tr>\n",
       "    <tr>\n",
       "      <th>2168</th>\n",
       "      <td>936</td>\n",
       "      <td>119149.048713</td>\n",
       "      <td>118500</td>\n",
       "    </tr>\n",
       "    <tr>\n",
       "      <th>1488</th>\n",
       "      <td>1256</td>\n",
       "      <td>153302.378339</td>\n",
       "      <td>147500</td>\n",
       "    </tr>\n",
       "  </tbody>\n",
       "</table>\n",
       "<p>586 rows × 3 columns</p>\n",
       "</div>"
      ],
      "text/plain": [
       "      Gr Liv Area      predicted    true\n",
       "1357         1666  197061.331923  161000\n",
       "2367         1030  129181.589291  116000\n",
       "2822         1724  203251.622918  196500\n",
       "2126          990  124912.423087  123600\n",
       "1544          919  117334.653076  126000\n",
       "...           ...            ...     ...\n",
       "2268         1146  141562.171280  187500\n",
       "456          2492  285219.614021  552000\n",
       "462          1405  169205.022447  173000\n",
       "2168          936  119149.048713  118500\n",
       "1488         1256  153302.378339  147500\n",
       "\n",
       "[586 rows x 3 columns]"
      ]
     },
     "execution_count": 15,
     "metadata": {},
     "output_type": "execute_result"
    }
   ],
   "source": [
    "y_pred = model.predict(X_test)\n",
    "\n",
    "(X_test\n",
    " .assign(predicted=y_pred,\n",
    "         true=y_test)\n",
    ")"
   ]
  },
  {
   "cell_type": "code",
   "execution_count": 16,
   "id": "6633b573",
   "metadata": {},
   "outputs": [
    {
     "name": "stdout",
     "output_type": "stream",
     "text": [
      "Mean Absolute Error (MAE): 41365.51\n",
      "Mean Squared Error (MSE): 3821184066.27\n",
      "Root Mean Squared Error (RMSE): 61815.73\n",
      "R-squared (R²): 0.52\n"
     ]
    }
   ],
   "source": [
    "# Calculate evaluation metrics\n",
    "mae = mean_absolute_error(y_test, y_pred)\n",
    "mse = mean_squared_error(y_test, y_pred)\n",
    "rmse = np.sqrt(mse) # RMSE is the square root of MSE\n",
    "r2 = r2_score(y_test, y_pred)\n",
    "\n",
    "print(f\"Mean Absolute Error (MAE): {mae:.2f}\")\n",
    "print(f\"Mean Squared Error (MSE): {mse:.2f}\")\n",
    "print(f\"Root Mean Squared Error (RMSE): {rmse:.2f}\")\n",
    "print(f\"R-squared (R²): {r2:.2f}\")"
   ]
  },
  {
   "cell_type": "markdown",
   "id": "998b789f",
   "metadata": {
    "lines_to_next_cell": 0
   },
   "source": [
    "# 2.5 Solution: Evaluate Linear Regression\n"
   ]
  },
  {
   "cell_type": "code",
   "execution_count": null,
   "id": "e991206a",
   "metadata": {},
   "outputs": [],
   "source": []
  },
  {
   "cell_type": "code",
   "execution_count": null,
   "id": "f53c4c6e",
   "metadata": {},
   "outputs": [],
   "source": []
  },
  {
   "cell_type": "code",
   "execution_count": null,
   "id": "2c953ed2",
   "metadata": {},
   "outputs": [],
   "source": []
  },
  {
   "cell_type": "markdown",
   "id": "99968927",
   "metadata": {
    "lines_to_next_cell": 0
   },
   "source": [
    "# 3. Classification Algorithms\n",
    "\n",
    "# 3.1 What is Classification?\n",
    "\n",
    "Classification predicts a **discrete category or class**. It assigns data points to predefined categories, unlike regression which predicts continuous values.\n",
    "\n",
    "## Types of Classification:\n",
    "\n",
    "*   **Binary Classification:** Predicts one of two classes (e.g., Spam/Not Spam).\n",
    "*   **Multi-class Classification:** Predicts one of more than two classes (e.g., animal types).\n",
    "\n",
    "Output is typically a class label or a probability score.\n"
   ]
  },
  {
   "cell_type": "markdown",
   "id": "3b37e5af",
   "metadata": {
    "lines_to_next_cell": 0
   },
   "source": [
    "# 3.2 Logistic Regression\n",
    "\n",
    "**Logistic Regression** is a widely used algorithm for **binary classification**. It models the probability of an input belonging to a class by applying the logistic (sigmoid) function to a linear combination of features.\n",
    "\n",
    "## Key Idea:\n",
    "\n",
    "Transforms a linear equation's output into a probability (0 to 1) using the sigmoid function:\n",
    "\n",
    "$$ P(Y=1|X) = \\frac{1}{1 + e^{-(b_0 + b_1x_1 + ... + b_nx_n)}} $$\n",
    "\n",
    "We'll use the Titanic dataset to predict survival.\n"
   ]
  },
  {
   "cell_type": "code",
   "execution_count": 8,
   "id": "457efcf3",
   "metadata": {},
   "outputs": [
    {
     "data": {
      "text/html": [
       "<style>#sk-container-id-1 {\n",
       "  /* Definition of color scheme common for light and dark mode */\n",
       "  --sklearn-color-text: #000;\n",
       "  --sklearn-color-text-muted: #666;\n",
       "  --sklearn-color-line: gray;\n",
       "  /* Definition of color scheme for unfitted estimators */\n",
       "  --sklearn-color-unfitted-level-0: #fff5e6;\n",
       "  --sklearn-color-unfitted-level-1: #f6e4d2;\n",
       "  --sklearn-color-unfitted-level-2: #ffe0b3;\n",
       "  --sklearn-color-unfitted-level-3: chocolate;\n",
       "  /* Definition of color scheme for fitted estimators */\n",
       "  --sklearn-color-fitted-level-0: #f0f8ff;\n",
       "  --sklearn-color-fitted-level-1: #d4ebff;\n",
       "  --sklearn-color-fitted-level-2: #b3dbfd;\n",
       "  --sklearn-color-fitted-level-3: cornflowerblue;\n",
       "\n",
       "  /* Specific color for light theme */\n",
       "  --sklearn-color-text-on-default-background: var(--sg-text-color, var(--theme-code-foreground, var(--jp-content-font-color1, black)));\n",
       "  --sklearn-color-background: var(--sg-background-color, var(--theme-background, var(--jp-layout-color0, white)));\n",
       "  --sklearn-color-border-box: var(--sg-text-color, var(--theme-code-foreground, var(--jp-content-font-color1, black)));\n",
       "  --sklearn-color-icon: #696969;\n",
       "\n",
       "  @media (prefers-color-scheme: dark) {\n",
       "    /* Redefinition of color scheme for dark theme */\n",
       "    --sklearn-color-text-on-default-background: var(--sg-text-color, var(--theme-code-foreground, var(--jp-content-font-color1, white)));\n",
       "    --sklearn-color-background: var(--sg-background-color, var(--theme-background, var(--jp-layout-color0, #111)));\n",
       "    --sklearn-color-border-box: var(--sg-text-color, var(--theme-code-foreground, var(--jp-content-font-color1, white)));\n",
       "    --sklearn-color-icon: #878787;\n",
       "  }\n",
       "}\n",
       "\n",
       "#sk-container-id-1 {\n",
       "  color: var(--sklearn-color-text);\n",
       "}\n",
       "\n",
       "#sk-container-id-1 pre {\n",
       "  padding: 0;\n",
       "}\n",
       "\n",
       "#sk-container-id-1 input.sk-hidden--visually {\n",
       "  border: 0;\n",
       "  clip: rect(1px 1px 1px 1px);\n",
       "  clip: rect(1px, 1px, 1px, 1px);\n",
       "  height: 1px;\n",
       "  margin: -1px;\n",
       "  overflow: hidden;\n",
       "  padding: 0;\n",
       "  position: absolute;\n",
       "  width: 1px;\n",
       "}\n",
       "\n",
       "#sk-container-id-1 div.sk-dashed-wrapped {\n",
       "  border: 1px dashed var(--sklearn-color-line);\n",
       "  margin: 0 0.4em 0.5em 0.4em;\n",
       "  box-sizing: border-box;\n",
       "  padding-bottom: 0.4em;\n",
       "  background-color: var(--sklearn-color-background);\n",
       "}\n",
       "\n",
       "#sk-container-id-1 div.sk-container {\n",
       "  /* jupyter's `normalize.less` sets `[hidden] { display: none; }`\n",
       "     but bootstrap.min.css set `[hidden] { display: none !important; }`\n",
       "     so we also need the `!important` here to be able to override the\n",
       "     default hidden behavior on the sphinx rendered scikit-learn.org.\n",
       "     See: https://github.com/scikit-learn/scikit-learn/issues/21755 */\n",
       "  display: inline-block !important;\n",
       "  position: relative;\n",
       "}\n",
       "\n",
       "#sk-container-id-1 div.sk-text-repr-fallback {\n",
       "  display: none;\n",
       "}\n",
       "\n",
       "div.sk-parallel-item,\n",
       "div.sk-serial,\n",
       "div.sk-item {\n",
       "  /* draw centered vertical line to link estimators */\n",
       "  background-image: linear-gradient(var(--sklearn-color-text-on-default-background), var(--sklearn-color-text-on-default-background));\n",
       "  background-size: 2px 100%;\n",
       "  background-repeat: no-repeat;\n",
       "  background-position: center center;\n",
       "}\n",
       "\n",
       "/* Parallel-specific style estimator block */\n",
       "\n",
       "#sk-container-id-1 div.sk-parallel-item::after {\n",
       "  content: \"\";\n",
       "  width: 100%;\n",
       "  border-bottom: 2px solid var(--sklearn-color-text-on-default-background);\n",
       "  flex-grow: 1;\n",
       "}\n",
       "\n",
       "#sk-container-id-1 div.sk-parallel {\n",
       "  display: flex;\n",
       "  align-items: stretch;\n",
       "  justify-content: center;\n",
       "  background-color: var(--sklearn-color-background);\n",
       "  position: relative;\n",
       "}\n",
       "\n",
       "#sk-container-id-1 div.sk-parallel-item {\n",
       "  display: flex;\n",
       "  flex-direction: column;\n",
       "}\n",
       "\n",
       "#sk-container-id-1 div.sk-parallel-item:first-child::after {\n",
       "  align-self: flex-end;\n",
       "  width: 50%;\n",
       "}\n",
       "\n",
       "#sk-container-id-1 div.sk-parallel-item:last-child::after {\n",
       "  align-self: flex-start;\n",
       "  width: 50%;\n",
       "}\n",
       "\n",
       "#sk-container-id-1 div.sk-parallel-item:only-child::after {\n",
       "  width: 0;\n",
       "}\n",
       "\n",
       "/* Serial-specific style estimator block */\n",
       "\n",
       "#sk-container-id-1 div.sk-serial {\n",
       "  display: flex;\n",
       "  flex-direction: column;\n",
       "  align-items: center;\n",
       "  background-color: var(--sklearn-color-background);\n",
       "  padding-right: 1em;\n",
       "  padding-left: 1em;\n",
       "}\n",
       "\n",
       "\n",
       "/* Toggleable style: style used for estimator/Pipeline/ColumnTransformer box that is\n",
       "clickable and can be expanded/collapsed.\n",
       "- Pipeline and ColumnTransformer use this feature and define the default style\n",
       "- Estimators will overwrite some part of the style using the `sk-estimator` class\n",
       "*/\n",
       "\n",
       "/* Pipeline and ColumnTransformer style (default) */\n",
       "\n",
       "#sk-container-id-1 div.sk-toggleable {\n",
       "  /* Default theme specific background. It is overwritten whether we have a\n",
       "  specific estimator or a Pipeline/ColumnTransformer */\n",
       "  background-color: var(--sklearn-color-background);\n",
       "}\n",
       "\n",
       "/* Toggleable label */\n",
       "#sk-container-id-1 label.sk-toggleable__label {\n",
       "  cursor: pointer;\n",
       "  display: flex;\n",
       "  width: 100%;\n",
       "  margin-bottom: 0;\n",
       "  padding: 0.5em;\n",
       "  box-sizing: border-box;\n",
       "  text-align: center;\n",
       "  align-items: start;\n",
       "  justify-content: space-between;\n",
       "  gap: 0.5em;\n",
       "}\n",
       "\n",
       "#sk-container-id-1 label.sk-toggleable__label .caption {\n",
       "  font-size: 0.6rem;\n",
       "  font-weight: lighter;\n",
       "  color: var(--sklearn-color-text-muted);\n",
       "}\n",
       "\n",
       "#sk-container-id-1 label.sk-toggleable__label-arrow:before {\n",
       "  /* Arrow on the left of the label */\n",
       "  content: \"▸\";\n",
       "  float: left;\n",
       "  margin-right: 0.25em;\n",
       "  color: var(--sklearn-color-icon);\n",
       "}\n",
       "\n",
       "#sk-container-id-1 label.sk-toggleable__label-arrow:hover:before {\n",
       "  color: var(--sklearn-color-text);\n",
       "}\n",
       "\n",
       "/* Toggleable content - dropdown */\n",
       "\n",
       "#sk-container-id-1 div.sk-toggleable__content {\n",
       "  display: none;\n",
       "  text-align: left;\n",
       "  /* unfitted */\n",
       "  background-color: var(--sklearn-color-unfitted-level-0);\n",
       "}\n",
       "\n",
       "#sk-container-id-1 div.sk-toggleable__content.fitted {\n",
       "  /* fitted */\n",
       "  background-color: var(--sklearn-color-fitted-level-0);\n",
       "}\n",
       "\n",
       "#sk-container-id-1 div.sk-toggleable__content pre {\n",
       "  margin: 0.2em;\n",
       "  border-radius: 0.25em;\n",
       "  color: var(--sklearn-color-text);\n",
       "  /* unfitted */\n",
       "  background-color: var(--sklearn-color-unfitted-level-0);\n",
       "}\n",
       "\n",
       "#sk-container-id-1 div.sk-toggleable__content.fitted pre {\n",
       "  /* unfitted */\n",
       "  background-color: var(--sklearn-color-fitted-level-0);\n",
       "}\n",
       "\n",
       "#sk-container-id-1 input.sk-toggleable__control:checked~div.sk-toggleable__content {\n",
       "  /* Expand drop-down */\n",
       "  display: block;\n",
       "  width: 100%;\n",
       "  overflow: visible;\n",
       "}\n",
       "\n",
       "#sk-container-id-1 input.sk-toggleable__control:checked~label.sk-toggleable__label-arrow:before {\n",
       "  content: \"▾\";\n",
       "}\n",
       "\n",
       "/* Pipeline/ColumnTransformer-specific style */\n",
       "\n",
       "#sk-container-id-1 div.sk-label input.sk-toggleable__control:checked~label.sk-toggleable__label {\n",
       "  color: var(--sklearn-color-text);\n",
       "  background-color: var(--sklearn-color-unfitted-level-2);\n",
       "}\n",
       "\n",
       "#sk-container-id-1 div.sk-label.fitted input.sk-toggleable__control:checked~label.sk-toggleable__label {\n",
       "  background-color: var(--sklearn-color-fitted-level-2);\n",
       "}\n",
       "\n",
       "/* Estimator-specific style */\n",
       "\n",
       "/* Colorize estimator box */\n",
       "#sk-container-id-1 div.sk-estimator input.sk-toggleable__control:checked~label.sk-toggleable__label {\n",
       "  /* unfitted */\n",
       "  background-color: var(--sklearn-color-unfitted-level-2);\n",
       "}\n",
       "\n",
       "#sk-container-id-1 div.sk-estimator.fitted input.sk-toggleable__control:checked~label.sk-toggleable__label {\n",
       "  /* fitted */\n",
       "  background-color: var(--sklearn-color-fitted-level-2);\n",
       "}\n",
       "\n",
       "#sk-container-id-1 div.sk-label label.sk-toggleable__label,\n",
       "#sk-container-id-1 div.sk-label label {\n",
       "  /* The background is the default theme color */\n",
       "  color: var(--sklearn-color-text-on-default-background);\n",
       "}\n",
       "\n",
       "/* On hover, darken the color of the background */\n",
       "#sk-container-id-1 div.sk-label:hover label.sk-toggleable__label {\n",
       "  color: var(--sklearn-color-text);\n",
       "  background-color: var(--sklearn-color-unfitted-level-2);\n",
       "}\n",
       "\n",
       "/* Label box, darken color on hover, fitted */\n",
       "#sk-container-id-1 div.sk-label.fitted:hover label.sk-toggleable__label.fitted {\n",
       "  color: var(--sklearn-color-text);\n",
       "  background-color: var(--sklearn-color-fitted-level-2);\n",
       "}\n",
       "\n",
       "/* Estimator label */\n",
       "\n",
       "#sk-container-id-1 div.sk-label label {\n",
       "  font-family: monospace;\n",
       "  font-weight: bold;\n",
       "  display: inline-block;\n",
       "  line-height: 1.2em;\n",
       "}\n",
       "\n",
       "#sk-container-id-1 div.sk-label-container {\n",
       "  text-align: center;\n",
       "}\n",
       "\n",
       "/* Estimator-specific */\n",
       "#sk-container-id-1 div.sk-estimator {\n",
       "  font-family: monospace;\n",
       "  border: 1px dotted var(--sklearn-color-border-box);\n",
       "  border-radius: 0.25em;\n",
       "  box-sizing: border-box;\n",
       "  margin-bottom: 0.5em;\n",
       "  /* unfitted */\n",
       "  background-color: var(--sklearn-color-unfitted-level-0);\n",
       "}\n",
       "\n",
       "#sk-container-id-1 div.sk-estimator.fitted {\n",
       "  /* fitted */\n",
       "  background-color: var(--sklearn-color-fitted-level-0);\n",
       "}\n",
       "\n",
       "/* on hover */\n",
       "#sk-container-id-1 div.sk-estimator:hover {\n",
       "  /* unfitted */\n",
       "  background-color: var(--sklearn-color-unfitted-level-2);\n",
       "}\n",
       "\n",
       "#sk-container-id-1 div.sk-estimator.fitted:hover {\n",
       "  /* fitted */\n",
       "  background-color: var(--sklearn-color-fitted-level-2);\n",
       "}\n",
       "\n",
       "/* Specification for estimator info (e.g. \"i\" and \"?\") */\n",
       "\n",
       "/* Common style for \"i\" and \"?\" */\n",
       "\n",
       ".sk-estimator-doc-link,\n",
       "a:link.sk-estimator-doc-link,\n",
       "a:visited.sk-estimator-doc-link {\n",
       "  float: right;\n",
       "  font-size: smaller;\n",
       "  line-height: 1em;\n",
       "  font-family: monospace;\n",
       "  background-color: var(--sklearn-color-background);\n",
       "  border-radius: 1em;\n",
       "  height: 1em;\n",
       "  width: 1em;\n",
       "  text-decoration: none !important;\n",
       "  margin-left: 0.5em;\n",
       "  text-align: center;\n",
       "  /* unfitted */\n",
       "  border: var(--sklearn-color-unfitted-level-1) 1pt solid;\n",
       "  color: var(--sklearn-color-unfitted-level-1);\n",
       "}\n",
       "\n",
       ".sk-estimator-doc-link.fitted,\n",
       "a:link.sk-estimator-doc-link.fitted,\n",
       "a:visited.sk-estimator-doc-link.fitted {\n",
       "  /* fitted */\n",
       "  border: var(--sklearn-color-fitted-level-1) 1pt solid;\n",
       "  color: var(--sklearn-color-fitted-level-1);\n",
       "}\n",
       "\n",
       "/* On hover */\n",
       "div.sk-estimator:hover .sk-estimator-doc-link:hover,\n",
       ".sk-estimator-doc-link:hover,\n",
       "div.sk-label-container:hover .sk-estimator-doc-link:hover,\n",
       ".sk-estimator-doc-link:hover {\n",
       "  /* unfitted */\n",
       "  background-color: var(--sklearn-color-unfitted-level-3);\n",
       "  color: var(--sklearn-color-background);\n",
       "  text-decoration: none;\n",
       "}\n",
       "\n",
       "div.sk-estimator.fitted:hover .sk-estimator-doc-link.fitted:hover,\n",
       ".sk-estimator-doc-link.fitted:hover,\n",
       "div.sk-label-container:hover .sk-estimator-doc-link.fitted:hover,\n",
       ".sk-estimator-doc-link.fitted:hover {\n",
       "  /* fitted */\n",
       "  background-color: var(--sklearn-color-fitted-level-3);\n",
       "  color: var(--sklearn-color-background);\n",
       "  text-decoration: none;\n",
       "}\n",
       "\n",
       "/* Span, style for the box shown on hovering the info icon */\n",
       ".sk-estimator-doc-link span {\n",
       "  display: none;\n",
       "  z-index: 9999;\n",
       "  position: relative;\n",
       "  font-weight: normal;\n",
       "  right: .2ex;\n",
       "  padding: .5ex;\n",
       "  margin: .5ex;\n",
       "  width: min-content;\n",
       "  min-width: 20ex;\n",
       "  max-width: 50ex;\n",
       "  color: var(--sklearn-color-text);\n",
       "  box-shadow: 2pt 2pt 4pt #999;\n",
       "  /* unfitted */\n",
       "  background: var(--sklearn-color-unfitted-level-0);\n",
       "  border: .5pt solid var(--sklearn-color-unfitted-level-3);\n",
       "}\n",
       "\n",
       ".sk-estimator-doc-link.fitted span {\n",
       "  /* fitted */\n",
       "  background: var(--sklearn-color-fitted-level-0);\n",
       "  border: var(--sklearn-color-fitted-level-3);\n",
       "}\n",
       "\n",
       ".sk-estimator-doc-link:hover span {\n",
       "  display: block;\n",
       "}\n",
       "\n",
       "/* \"?\"-specific style due to the `<a>` HTML tag */\n",
       "\n",
       "#sk-container-id-1 a.estimator_doc_link {\n",
       "  float: right;\n",
       "  font-size: 1rem;\n",
       "  line-height: 1em;\n",
       "  font-family: monospace;\n",
       "  background-color: var(--sklearn-color-background);\n",
       "  border-radius: 1rem;\n",
       "  height: 1rem;\n",
       "  width: 1rem;\n",
       "  text-decoration: none;\n",
       "  /* unfitted */\n",
       "  color: var(--sklearn-color-unfitted-level-1);\n",
       "  border: var(--sklearn-color-unfitted-level-1) 1pt solid;\n",
       "}\n",
       "\n",
       "#sk-container-id-1 a.estimator_doc_link.fitted {\n",
       "  /* fitted */\n",
       "  border: var(--sklearn-color-fitted-level-1) 1pt solid;\n",
       "  color: var(--sklearn-color-fitted-level-1);\n",
       "}\n",
       "\n",
       "/* On hover */\n",
       "#sk-container-id-1 a.estimator_doc_link:hover {\n",
       "  /* unfitted */\n",
       "  background-color: var(--sklearn-color-unfitted-level-3);\n",
       "  color: var(--sklearn-color-background);\n",
       "  text-decoration: none;\n",
       "}\n",
       "\n",
       "#sk-container-id-1 a.estimator_doc_link.fitted:hover {\n",
       "  /* fitted */\n",
       "  background-color: var(--sklearn-color-fitted-level-3);\n",
       "}\n",
       "\n",
       ".estimator-table summary {\n",
       "    padding: .5rem;\n",
       "    font-family: monospace;\n",
       "    cursor: pointer;\n",
       "}\n",
       "\n",
       ".estimator-table details[open] {\n",
       "    padding-left: 0.1rem;\n",
       "    padding-right: 0.1rem;\n",
       "    padding-bottom: 0.3rem;\n",
       "}\n",
       "\n",
       ".estimator-table .parameters-table {\n",
       "    margin-left: auto !important;\n",
       "    margin-right: auto !important;\n",
       "}\n",
       "\n",
       ".estimator-table .parameters-table tr:nth-child(odd) {\n",
       "    background-color: #fff;\n",
       "}\n",
       "\n",
       ".estimator-table .parameters-table tr:nth-child(even) {\n",
       "    background-color: #f6f6f6;\n",
       "}\n",
       "\n",
       ".estimator-table .parameters-table tr:hover {\n",
       "    background-color: #e0e0e0;\n",
       "}\n",
       "\n",
       ".estimator-table table td {\n",
       "    border: 1px solid rgba(106, 105, 104, 0.232);\n",
       "}\n",
       "\n",
       ".user-set td {\n",
       "    color:rgb(255, 94, 0);\n",
       "    text-align: left;\n",
       "}\n",
       "\n",
       ".user-set td.value pre {\n",
       "    color:rgb(255, 94, 0) !important;\n",
       "    background-color: transparent !important;\n",
       "}\n",
       "\n",
       ".default td {\n",
       "    color: black;\n",
       "    text-align: left;\n",
       "}\n",
       "\n",
       ".user-set td i,\n",
       ".default td i {\n",
       "    color: black;\n",
       "}\n",
       "\n",
       ".copy-paste-icon {\n",
       "    background-image: url(data:image/svg+xml;base64,PHN2ZyB4bWxucz0iaHR0cDovL3d3dy53My5vcmcvMjAwMC9zdmciIHZpZXdCb3g9IjAgMCA0NDggNTEyIj48IS0tIUZvbnQgQXdlc29tZSBGcmVlIDYuNy4yIGJ5IEBmb250YXdlc29tZSAtIGh0dHBzOi8vZm9udGF3ZXNvbWUuY29tIExpY2Vuc2UgLSBodHRwczovL2ZvbnRhd2Vzb21lLmNvbS9saWNlbnNlL2ZyZWUgQ29weXJpZ2h0IDIwMjUgRm9udGljb25zLCBJbmMuLS0+PHBhdGggZD0iTTIwOCAwTDMzMi4xIDBjMTIuNyAwIDI0LjkgNS4xIDMzLjkgMTQuMWw2Ny45IDY3LjljOSA5IDE0LjEgMjEuMiAxNC4xIDMzLjlMNDQ4IDMzNmMwIDI2LjUtMjEuNSA0OC00OCA0OGwtMTkyIDBjLTI2LjUgMC00OC0yMS41LTQ4LTQ4bDAtMjg4YzAtMjYuNSAyMS41LTQ4IDQ4LTQ4ek00OCAxMjhsODAgMCAwIDY0LTY0IDAgMCAyNTYgMTkyIDAgMC0zMiA2NCAwIDAgNDhjMCAyNi41LTIxLjUgNDgtNDggNDhMNDggNTEyYy0yNi41IDAtNDgtMjEuNS00OC00OEwwIDE3NmMwLTI2LjUgMjEuNS00OCA0OC00OHoiLz48L3N2Zz4=);\n",
       "    background-repeat: no-repeat;\n",
       "    background-size: 14px 14px;\n",
       "    background-position: 0;\n",
       "    display: inline-block;\n",
       "    width: 14px;\n",
       "    height: 14px;\n",
       "    cursor: pointer;\n",
       "}\n",
       "</style><body><div id=\"sk-container-id-1\" class=\"sk-top-container\"><div class=\"sk-text-repr-fallback\"><pre>LogisticRegression()</pre><b>In a Jupyter environment, please rerun this cell to show the HTML representation or trust the notebook. <br />On GitHub, the HTML representation is unable to render, please try loading this page with nbviewer.org.</b></div><div class=\"sk-container\" hidden><div class=\"sk-item\"><div class=\"sk-estimator fitted sk-toggleable\"><input class=\"sk-toggleable__control sk-hidden--visually\" id=\"sk-estimator-id-1\" type=\"checkbox\" checked><label for=\"sk-estimator-id-1\" class=\"sk-toggleable__label fitted sk-toggleable__label-arrow\"><div><div>LogisticRegression</div></div><div><a class=\"sk-estimator-doc-link fitted\" rel=\"noreferrer\" target=\"_blank\" href=\"https://scikit-learn.org/1.7/modules/generated/sklearn.linear_model.LogisticRegression.html\">?<span>Documentation for LogisticRegression</span></a><span class=\"sk-estimator-doc-link fitted\">i<span>Fitted</span></span></div></label><div class=\"sk-toggleable__content fitted\" data-param-prefix=\"\">\n",
       "        <div class=\"estimator-table\">\n",
       "            <details>\n",
       "                <summary>Parameters</summary>\n",
       "                <table class=\"parameters-table\">\n",
       "                  <tbody>\n",
       "                    \n",
       "        <tr class=\"default\">\n",
       "            <td><i class=\"copy-paste-icon\"\n",
       "                 onclick=\"copyToClipboard('penalty',\n",
       "                          this.parentElement.nextElementSibling)\"\n",
       "            ></i></td>\n",
       "            <td class=\"param\">penalty&nbsp;</td>\n",
       "            <td class=\"value\">&#x27;l2&#x27;</td>\n",
       "        </tr>\n",
       "    \n",
       "\n",
       "        <tr class=\"default\">\n",
       "            <td><i class=\"copy-paste-icon\"\n",
       "                 onclick=\"copyToClipboard('dual',\n",
       "                          this.parentElement.nextElementSibling)\"\n",
       "            ></i></td>\n",
       "            <td class=\"param\">dual&nbsp;</td>\n",
       "            <td class=\"value\">False</td>\n",
       "        </tr>\n",
       "    \n",
       "\n",
       "        <tr class=\"default\">\n",
       "            <td><i class=\"copy-paste-icon\"\n",
       "                 onclick=\"copyToClipboard('tol',\n",
       "                          this.parentElement.nextElementSibling)\"\n",
       "            ></i></td>\n",
       "            <td class=\"param\">tol&nbsp;</td>\n",
       "            <td class=\"value\">0.0001</td>\n",
       "        </tr>\n",
       "    \n",
       "\n",
       "        <tr class=\"default\">\n",
       "            <td><i class=\"copy-paste-icon\"\n",
       "                 onclick=\"copyToClipboard('C',\n",
       "                          this.parentElement.nextElementSibling)\"\n",
       "            ></i></td>\n",
       "            <td class=\"param\">C&nbsp;</td>\n",
       "            <td class=\"value\">1.0</td>\n",
       "        </tr>\n",
       "    \n",
       "\n",
       "        <tr class=\"default\">\n",
       "            <td><i class=\"copy-paste-icon\"\n",
       "                 onclick=\"copyToClipboard('fit_intercept',\n",
       "                          this.parentElement.nextElementSibling)\"\n",
       "            ></i></td>\n",
       "            <td class=\"param\">fit_intercept&nbsp;</td>\n",
       "            <td class=\"value\">True</td>\n",
       "        </tr>\n",
       "    \n",
       "\n",
       "        <tr class=\"default\">\n",
       "            <td><i class=\"copy-paste-icon\"\n",
       "                 onclick=\"copyToClipboard('intercept_scaling',\n",
       "                          this.parentElement.nextElementSibling)\"\n",
       "            ></i></td>\n",
       "            <td class=\"param\">intercept_scaling&nbsp;</td>\n",
       "            <td class=\"value\">1</td>\n",
       "        </tr>\n",
       "    \n",
       "\n",
       "        <tr class=\"default\">\n",
       "            <td><i class=\"copy-paste-icon\"\n",
       "                 onclick=\"copyToClipboard('class_weight',\n",
       "                          this.parentElement.nextElementSibling)\"\n",
       "            ></i></td>\n",
       "            <td class=\"param\">class_weight&nbsp;</td>\n",
       "            <td class=\"value\">None</td>\n",
       "        </tr>\n",
       "    \n",
       "\n",
       "        <tr class=\"default\">\n",
       "            <td><i class=\"copy-paste-icon\"\n",
       "                 onclick=\"copyToClipboard('random_state',\n",
       "                          this.parentElement.nextElementSibling)\"\n",
       "            ></i></td>\n",
       "            <td class=\"param\">random_state&nbsp;</td>\n",
       "            <td class=\"value\">None</td>\n",
       "        </tr>\n",
       "    \n",
       "\n",
       "        <tr class=\"default\">\n",
       "            <td><i class=\"copy-paste-icon\"\n",
       "                 onclick=\"copyToClipboard('solver',\n",
       "                          this.parentElement.nextElementSibling)\"\n",
       "            ></i></td>\n",
       "            <td class=\"param\">solver&nbsp;</td>\n",
       "            <td class=\"value\">&#x27;lbfgs&#x27;</td>\n",
       "        </tr>\n",
       "    \n",
       "\n",
       "        <tr class=\"default\">\n",
       "            <td><i class=\"copy-paste-icon\"\n",
       "                 onclick=\"copyToClipboard('max_iter',\n",
       "                          this.parentElement.nextElementSibling)\"\n",
       "            ></i></td>\n",
       "            <td class=\"param\">max_iter&nbsp;</td>\n",
       "            <td class=\"value\">100</td>\n",
       "        </tr>\n",
       "    \n",
       "\n",
       "        <tr class=\"default\">\n",
       "            <td><i class=\"copy-paste-icon\"\n",
       "                 onclick=\"copyToClipboard('multi_class',\n",
       "                          this.parentElement.nextElementSibling)\"\n",
       "            ></i></td>\n",
       "            <td class=\"param\">multi_class&nbsp;</td>\n",
       "            <td class=\"value\">&#x27;deprecated&#x27;</td>\n",
       "        </tr>\n",
       "    \n",
       "\n",
       "        <tr class=\"default\">\n",
       "            <td><i class=\"copy-paste-icon\"\n",
       "                 onclick=\"copyToClipboard('verbose',\n",
       "                          this.parentElement.nextElementSibling)\"\n",
       "            ></i></td>\n",
       "            <td class=\"param\">verbose&nbsp;</td>\n",
       "            <td class=\"value\">0</td>\n",
       "        </tr>\n",
       "    \n",
       "\n",
       "        <tr class=\"default\">\n",
       "            <td><i class=\"copy-paste-icon\"\n",
       "                 onclick=\"copyToClipboard('warm_start',\n",
       "                          this.parentElement.nextElementSibling)\"\n",
       "            ></i></td>\n",
       "            <td class=\"param\">warm_start&nbsp;</td>\n",
       "            <td class=\"value\">False</td>\n",
       "        </tr>\n",
       "    \n",
       "\n",
       "        <tr class=\"default\">\n",
       "            <td><i class=\"copy-paste-icon\"\n",
       "                 onclick=\"copyToClipboard('n_jobs',\n",
       "                          this.parentElement.nextElementSibling)\"\n",
       "            ></i></td>\n",
       "            <td class=\"param\">n_jobs&nbsp;</td>\n",
       "            <td class=\"value\">None</td>\n",
       "        </tr>\n",
       "    \n",
       "\n",
       "        <tr class=\"default\">\n",
       "            <td><i class=\"copy-paste-icon\"\n",
       "                 onclick=\"copyToClipboard('l1_ratio',\n",
       "                          this.parentElement.nextElementSibling)\"\n",
       "            ></i></td>\n",
       "            <td class=\"param\">l1_ratio&nbsp;</td>\n",
       "            <td class=\"value\">None</td>\n",
       "        </tr>\n",
       "    \n",
       "                  </tbody>\n",
       "                </table>\n",
       "            </details>\n",
       "        </div>\n",
       "    </div></div></div></div></div><script>function copyToClipboard(text, element) {\n",
       "    // Get the parameter prefix from the closest toggleable content\n",
       "    const toggleableContent = element.closest('.sk-toggleable__content');\n",
       "    const paramPrefix = toggleableContent ? toggleableContent.dataset.paramPrefix : '';\n",
       "    const fullParamName = paramPrefix ? `${paramPrefix}${text}` : text;\n",
       "\n",
       "    const originalStyle = element.style;\n",
       "    const computedStyle = window.getComputedStyle(element);\n",
       "    const originalWidth = computedStyle.width;\n",
       "    const originalHTML = element.innerHTML.replace('Copied!', '');\n",
       "\n",
       "    navigator.clipboard.writeText(fullParamName)\n",
       "        .then(() => {\n",
       "            element.style.width = originalWidth;\n",
       "            element.style.color = 'green';\n",
       "            element.innerHTML = \"Copied!\";\n",
       "\n",
       "            setTimeout(() => {\n",
       "                element.innerHTML = originalHTML;\n",
       "                element.style = originalStyle;\n",
       "            }, 2000);\n",
       "        })\n",
       "        .catch(err => {\n",
       "            console.error('Failed to copy:', err);\n",
       "            element.style.color = 'red';\n",
       "            element.innerHTML = \"Failed!\";\n",
       "            setTimeout(() => {\n",
       "                element.innerHTML = originalHTML;\n",
       "                element.style = originalStyle;\n",
       "            }, 2000);\n",
       "        });\n",
       "    return false;\n",
       "}\n",
       "\n",
       "document.querySelectorAll('.fa-regular.fa-copy').forEach(function(element) {\n",
       "    const toggleableContent = element.closest('.sk-toggleable__content');\n",
       "    const paramPrefix = toggleableContent ? toggleableContent.dataset.paramPrefix : '';\n",
       "    const paramName = element.parentElement.nextElementSibling.textContent.trim();\n",
       "    const fullParamName = paramPrefix ? `${paramPrefix}${paramName}` : paramName;\n",
       "\n",
       "    element.setAttribute('title', fullParamName);\n",
       "});\n",
       "</script></body>"
      ],
      "text/plain": [
       "LogisticRegression()"
      ]
     },
     "execution_count": 8,
     "metadata": {},
     "output_type": "execute_result"
    }
   ],
   "source": [
    "# simple illustration of logistic regression\n",
    "from sklearn.linear_model import LogisticRegression\n",
    "\n",
    "data = pd.DataFrame({'features': [0, 1, 2, 3, 4, 5, 6, 7, 8, 9],\n",
    "                     'target': [0, 0, 0, 0, 1, 0, 1, 1, 1, 1]})\n",
    "\n",
    "X = data[['features']]\n",
    "y = data['target']\n",
    "\n",
    "model = LogisticRegression()\n",
    "model.fit(X, y)"
   ]
  },
  {
   "cell_type": "code",
   "execution_count": 9,
   "id": "eb2426e2",
   "metadata": {
    "lines_to_next_cell": 2
   },
   "outputs": [
    {
     "data": {
      "text/plain": [
       "Text(5.499945679288099, 0.6, 'Above x=4.50 is likely 1')"
      ]
     },
     "execution_count": 9,
     "metadata": {},
     "output_type": "execute_result"
    },
    {
     "data": {
      "image/png": "[encoded data removed]",
      "text/plain": [
       "<Figure size 800x600 with 1 Axes>"
      ]
     },
     "metadata": {},
     "output_type": "display_data"
    }
   ],
   "source": [
    "# plot the logistic regression curve\n",
    "fig, ax = plt.subplots(figsize=(8, 6))\n",
    "data.plot(kind='scatter', x='features', y='target', c='blue', alpha=0.5, ax=ax)\n",
    "coef = model.coef_[0][0]\n",
    "intercept = model.intercept_[0]\n",
    "x_line = np.linspace(data['features'].min(), data['features'].max(), 100).reshape(-1, 1)\n",
    "# use formula for logistic regression: p = 1 / (1 + exp(-(intercept + coef * x)))\n",
    "y_line = 1 / (1 + np.exp(-(intercept + coef * x_line)))\n",
    "ax.plot(x_line, y_line, color='red', linewidth=2, label='Logistic Regression Curve')\n",
    "# annotate the .5 point\n",
    "ax.annotate(f'Above x={-intercept/coef:.2f} is likely 1',\n",
    "            xy=(-intercept/coef, 0.5),\n",
    "            xytext=(-intercept/coef + 1, 0.6),\n",
    "            arrowprops=dict(facecolor='black', shrink=0.05),\n",
    "            fontsize=12, color='red')"
   ]
  },
  {
   "cell_type": "code",
   "execution_count": 10,
   "id": "44ed999e",
   "metadata": {
    "lines_to_next_cell": 0
   },
   "outputs": [
    {
     "ename": "ImportError",
     "evalue": "Missing optional dependency 'xlrd'. Install xlrd >= 2.0.1 for xls Excel support Use pip or conda to install xlrd.",
     "output_type": "error",
     "traceback": [
      "\u001b[0;31m---------------------------------------------------------------------------\u001b[0m",
      "\u001b[0;31mModuleNotFoundError\u001b[0m                       Traceback (most recent call last)",
      "File \u001b[0;32m/workspaces/applied-machine-learning-supervised-learning-3923366/.venv/lib/python3.10/site-packages/pandas/compat/_optional.py:135\u001b[0m, in \u001b[0;36mimport_optional_dependency\u001b[0;34m(name, extra, errors, min_version)\u001b[0m\n\u001b[1;32m    134\u001b[0m \u001b[38;5;28;01mtry\u001b[39;00m:\n\u001b[0;32m--> 135\u001b[0m     module \u001b[38;5;241m=\u001b[39m \u001b[43mimportlib\u001b[49m\u001b[38;5;241;43m.\u001b[39;49m\u001b[43mimport_module\u001b[49m\u001b[43m(\u001b[49m\u001b[43mname\u001b[49m\u001b[43m)\u001b[49m\n\u001b[1;32m    136\u001b[0m \u001b[38;5;28;01mexcept\u001b[39;00m \u001b[38;5;167;01mImportError\u001b[39;00m:\n",
      "File \u001b[0;32m/usr/local/lib/python3.10/importlib/__init__.py:126\u001b[0m, in \u001b[0;36mimport_module\u001b[0;34m(name, package)\u001b[0m\n\u001b[1;32m    125\u001b[0m         level \u001b[38;5;241m+\u001b[39m\u001b[38;5;241m=\u001b[39m \u001b[38;5;241m1\u001b[39m\n\u001b[0;32m--> 126\u001b[0m \u001b[38;5;28;01mreturn\u001b[39;00m \u001b[43m_bootstrap\u001b[49m\u001b[38;5;241;43m.\u001b[39;49m\u001b[43m_gcd_import\u001b[49m\u001b[43m(\u001b[49m\u001b[43mname\u001b[49m\u001b[43m[\u001b[49m\u001b[43mlevel\u001b[49m\u001b[43m:\u001b[49m\u001b[43m]\u001b[49m\u001b[43m,\u001b[49m\u001b[43m \u001b[49m\u001b[43mpackage\u001b[49m\u001b[43m,\u001b[49m\u001b[43m \u001b[49m\u001b[43mlevel\u001b[49m\u001b[43m)\u001b[49m\n",
      "File \u001b[0;32m<frozen importlib._bootstrap>:1050\u001b[0m, in \u001b[0;36m_gcd_import\u001b[0;34m(name, package, level)\u001b[0m\n",
      "File \u001b[0;32m<frozen importlib._bootstrap>:1027\u001b[0m, in \u001b[0;36m_find_and_load\u001b[0;34m(name, import_)\u001b[0m\n",
      "File \u001b[0;32m<frozen importlib._bootstrap>:1004\u001b[0m, in \u001b[0;36m_find_and_load_unlocked\u001b[0;34m(name, import_)\u001b[0m\n",
      "\u001b[0;31mModuleNotFoundError\u001b[0m: No module named 'xlrd'",
      "\nDuring handling of the above exception, another exception occurred:\n",
      "\u001b[0;31mImportError\u001b[0m                               Traceback (most recent call last)",
      "Cell \u001b[0;32mIn[10], line 15\u001b[0m\n\u001b[1;32m     12\u001b[0m \u001b[38;5;66;03m# Load the Titanic dataset\u001b[39;00m\n\u001b[1;32m     14\u001b[0m url_titanic \u001b[38;5;241m=\u001b[39m \u001b[38;5;124m\"\u001b[39m\u001b[38;5;124mhttps://raw.githubusercontent.com/mattharrison/datasets/master/data/titanic3.xls\u001b[39m\u001b[38;5;124m\"\u001b[39m\n\u001b[0;32m---> 15\u001b[0m titanic_df \u001b[38;5;241m=\u001b[39m \u001b[43mpd\u001b[49m\u001b[38;5;241;43m.\u001b[39;49m\u001b[43mread_excel\u001b[49m\u001b[43m(\u001b[49m\u001b[43murl_titanic\u001b[49m\u001b[43m)\u001b[49m\n\u001b[1;32m     17\u001b[0m \u001b[38;5;28mprint\u001b[39m(\u001b[38;5;124m\"\u001b[39m\u001b[38;5;124mTitanic Dataset loaded. First 5 rows:\u001b[39m\u001b[38;5;124m\"\u001b[39m)\n\u001b[1;32m     18\u001b[0m \u001b[38;5;28mprint\u001b[39m(titanic_df\u001b[38;5;241m.\u001b[39mhead())\n",
      "File \u001b[0;32m/workspaces/applied-machine-learning-supervised-learning-3923366/.venv/lib/python3.10/site-packages/pandas/io/excel/_base.py:495\u001b[0m, in \u001b[0;36mread_excel\u001b[0;34m(io, sheet_name, header, names, index_col, usecols, dtype, engine, converters, true_values, false_values, skiprows, nrows, na_values, keep_default_na, na_filter, verbose, parse_dates, date_parser, date_format, thousands, decimal, comment, skipfooter, storage_options, dtype_backend, engine_kwargs)\u001b[0m\n\u001b[1;32m    493\u001b[0m \u001b[38;5;28;01mif\u001b[39;00m \u001b[38;5;129;01mnot\u001b[39;00m \u001b[38;5;28misinstance\u001b[39m(io, ExcelFile):\n\u001b[1;32m    494\u001b[0m     should_close \u001b[38;5;241m=\u001b[39m \u001b[38;5;28;01mTrue\u001b[39;00m\n\u001b[0;32m--> 495\u001b[0m     io \u001b[38;5;241m=\u001b[39m \u001b[43mExcelFile\u001b[49m\u001b[43m(\u001b[49m\n\u001b[1;32m    496\u001b[0m \u001b[43m        \u001b[49m\u001b[43mio\u001b[49m\u001b[43m,\u001b[49m\n\u001b[1;32m    497\u001b[0m \u001b[43m        \u001b[49m\u001b[43mstorage_options\u001b[49m\u001b[38;5;241;43m=\u001b[39;49m\u001b[43mstorage_options\u001b[49m\u001b[43m,\u001b[49m\n\u001b[1;32m    498\u001b[0m \u001b[43m        \u001b[49m\u001b[43mengine\u001b[49m\u001b[38;5;241;43m=\u001b[39;49m\u001b[43mengine\u001b[49m\u001b[43m,\u001b[49m\n\u001b[1;32m    499\u001b[0m \u001b[43m        \u001b[49m\u001b[43mengine_kwargs\u001b[49m\u001b[38;5;241;43m=\u001b[39;49m\u001b[43mengine_kwargs\u001b[49m\u001b[43m,\u001b[49m\n\u001b[1;32m    500\u001b[0m \u001b[43m    \u001b[49m\u001b[43m)\u001b[49m\n\u001b[1;32m    501\u001b[0m \u001b[38;5;28;01melif\u001b[39;00m engine \u001b[38;5;129;01mand\u001b[39;00m engine \u001b[38;5;241m!=\u001b[39m io\u001b[38;5;241m.\u001b[39mengine:\n\u001b[1;32m    502\u001b[0m     \u001b[38;5;28;01mraise\u001b[39;00m \u001b[38;5;167;01mValueError\u001b[39;00m(\n\u001b[1;32m    503\u001b[0m         \u001b[38;5;124m\"\u001b[39m\u001b[38;5;124mEngine should not be specified when passing \u001b[39m\u001b[38;5;124m\"\u001b[39m\n\u001b[1;32m    504\u001b[0m         \u001b[38;5;124m\"\u001b[39m\u001b[38;5;124man ExcelFile - ExcelFile already has the engine set\u001b[39m\u001b[38;5;124m\"\u001b[39m\n\u001b[1;32m    505\u001b[0m     )\n",
      "File \u001b[0;32m/workspaces/applied-machine-learning-supervised-learning-3923366/.venv/lib/python3.10/site-packages/pandas/io/excel/_base.py:1567\u001b[0m, in \u001b[0;36mExcelFile.__init__\u001b[0;34m(self, path_or_buffer, engine, storage_options, engine_kwargs)\u001b[0m\n\u001b[1;32m   1564\u001b[0m \u001b[38;5;28mself\u001b[39m\u001b[38;5;241m.\u001b[39mengine \u001b[38;5;241m=\u001b[39m engine\n\u001b[1;32m   1565\u001b[0m \u001b[38;5;28mself\u001b[39m\u001b[38;5;241m.\u001b[39mstorage_options \u001b[38;5;241m=\u001b[39m storage_options\n\u001b[0;32m-> 1567\u001b[0m \u001b[38;5;28mself\u001b[39m\u001b[38;5;241m.\u001b[39m_reader \u001b[38;5;241m=\u001b[39m \u001b[38;5;28;43mself\u001b[39;49m\u001b[38;5;241;43m.\u001b[39;49m\u001b[43m_engines\u001b[49m\u001b[43m[\u001b[49m\u001b[43mengine\u001b[49m\u001b[43m]\u001b[49m\u001b[43m(\u001b[49m\n\u001b[1;32m   1568\u001b[0m \u001b[43m    \u001b[49m\u001b[38;5;28;43mself\u001b[39;49m\u001b[38;5;241;43m.\u001b[39;49m\u001b[43m_io\u001b[49m\u001b[43m,\u001b[49m\n\u001b[1;32m   1569\u001b[0m \u001b[43m    \u001b[49m\u001b[43mstorage_options\u001b[49m\u001b[38;5;241;43m=\u001b[39;49m\u001b[43mstorage_options\u001b[49m\u001b[43m,\u001b[49m\n\u001b[1;32m   1570\u001b[0m \u001b[43m    \u001b[49m\u001b[43mengine_kwargs\u001b[49m\u001b[38;5;241;43m=\u001b[39;49m\u001b[43mengine_kwargs\u001b[49m\u001b[43m,\u001b[49m\n\u001b[1;32m   1571\u001b[0m \u001b[43m\u001b[49m\u001b[43m)\u001b[49m\n",
      "File \u001b[0;32m/workspaces/applied-machine-learning-supervised-learning-3923366/.venv/lib/python3.10/site-packages/pandas/io/excel/_xlrd.py:45\u001b[0m, in \u001b[0;36mXlrdReader.__init__\u001b[0;34m(self, filepath_or_buffer, storage_options, engine_kwargs)\u001b[0m\n\u001b[1;32m     33\u001b[0m \u001b[38;5;250m\u001b[39m\u001b[38;5;124;03m\"\"\"\u001b[39;00m\n\u001b[1;32m     34\u001b[0m \u001b[38;5;124;03mReader using xlrd engine.\u001b[39;00m\n\u001b[1;32m     35\u001b[0m \n\u001b[0;32m   (...)\u001b[0m\n\u001b[1;32m     42\u001b[0m \u001b[38;5;124;03m    Arbitrary keyword arguments passed to excel engine.\u001b[39;00m\n\u001b[1;32m     43\u001b[0m \u001b[38;5;124;03m\"\"\"\u001b[39;00m\n\u001b[1;32m     44\u001b[0m err_msg \u001b[38;5;241m=\u001b[39m \u001b[38;5;124m\"\u001b[39m\u001b[38;5;124mInstall xlrd >= 2.0.1 for xls Excel support\u001b[39m\u001b[38;5;124m\"\u001b[39m\n\u001b[0;32m---> 45\u001b[0m \u001b[43mimport_optional_dependency\u001b[49m\u001b[43m(\u001b[49m\u001b[38;5;124;43m\"\u001b[39;49m\u001b[38;5;124;43mxlrd\u001b[39;49m\u001b[38;5;124;43m\"\u001b[39;49m\u001b[43m,\u001b[49m\u001b[43m \u001b[49m\u001b[43mextra\u001b[49m\u001b[38;5;241;43m=\u001b[39;49m\u001b[43merr_msg\u001b[49m\u001b[43m)\u001b[49m\n\u001b[1;32m     46\u001b[0m \u001b[38;5;28msuper\u001b[39m()\u001b[38;5;241m.\u001b[39m\u001b[38;5;21m__init__\u001b[39m(\n\u001b[1;32m     47\u001b[0m     filepath_or_buffer,\n\u001b[1;32m     48\u001b[0m     storage_options\u001b[38;5;241m=\u001b[39mstorage_options,\n\u001b[1;32m     49\u001b[0m     engine_kwargs\u001b[38;5;241m=\u001b[39mengine_kwargs,\n\u001b[1;32m     50\u001b[0m )\n",
      "File \u001b[0;32m/workspaces/applied-machine-learning-supervised-learning-3923366/.venv/lib/python3.10/site-packages/pandas/compat/_optional.py:138\u001b[0m, in \u001b[0;36mimport_optional_dependency\u001b[0;34m(name, extra, errors, min_version)\u001b[0m\n\u001b[1;32m    136\u001b[0m \u001b[38;5;28;01mexcept\u001b[39;00m \u001b[38;5;167;01mImportError\u001b[39;00m:\n\u001b[1;32m    137\u001b[0m     \u001b[38;5;28;01mif\u001b[39;00m errors \u001b[38;5;241m==\u001b[39m \u001b[38;5;124m\"\u001b[39m\u001b[38;5;124mraise\u001b[39m\u001b[38;5;124m\"\u001b[39m:\n\u001b[0;32m--> 138\u001b[0m         \u001b[38;5;28;01mraise\u001b[39;00m \u001b[38;5;167;01mImportError\u001b[39;00m(msg)\n\u001b[1;32m    139\u001b[0m     \u001b[38;5;28;01mreturn\u001b[39;00m \u001b[38;5;28;01mNone\u001b[39;00m\n\u001b[1;32m    141\u001b[0m \u001b[38;5;66;03m# Handle submodules: if we have submodule, grab parent module from sys.modules\u001b[39;00m\n",
      "\u001b[0;31mImportError\u001b[0m: Missing optional dependency 'xlrd'. Install xlrd >= 2.0.1 for xls Excel support Use pip or conda to install xlrd."
     ]
    }
   ],
   "source": [
    "import pandas as pd\n",
    "import numpy as np\n",
    "from sklearn.model_selection import train_test_split\n",
    "from sklearn.linear_model import LogisticRegression\n",
    "from sklearn.metrics import accuracy_score, precision_score, recall_score, f1_score, confusion_matrix\n",
    "from sklearn.preprocessing import StandardScaler, OneHotEncoder\n",
    "from sklearn.compose import ColumnTransformer\n",
    "from sklearn.pipeline import Pipeline\n",
    "import requests\n",
    "import io\n",
    "\n",
    "# Load the Titanic dataset\n",
    "\n",
    "url_titanic = \"https://raw.githubusercontent.com/mattharrison/datasets/master/data/titanic3.xls\"\n",
    "titanic_df = pd.read_excel(url_titanic)\n",
    "\n",
    "print(\"Titanic Dataset loaded. First 5 rows:\")\n",
    "print(titanic_df.head())\n",
    "#"
   ]
  },
  {
   "cell_type": "code",
   "execution_count": null,
   "id": "efd1d574",
   "metadata": {},
   "outputs": [],
   "source": [
    "# Simple Logistic Regression Model\n",
    "# Plot survival rate by age\n",
    "fig, ax = plt.subplots(figsize=(8, 6))\n",
    "titanic_df.plot.scatter(x='age', y='survived', ax=ax, alpha=0.1, color='blue')"
   ]
  },
  {
   "cell_type": "code",
   "execution_count": null,
   "id": "167f0f63",
   "metadata": {
    "lines_to_next_cell": 2
   },
   "outputs": [],
   "source": [
    "# Plot Logistic Regression Model\n",
    "# Plot survival rate by age\n",
    "titanic_df.plot.scatter(x='age', y='survived', ax=ax, alpha=0.1, color='blue')\n",
    "\n",
    "model = LogisticRegression(max_iter=1000)\n",
    "# Define features (X) and target (y)\n",
    "X_ames = titanic_df[['age']]\n",
    "y_ames = titanic_df['survived']\n",
    "\n",
    "model.fit(X_ames, y_ames)"
   ]
  },
  {
   "cell_type": "code",
   "execution_count": null,
   "id": "242b41e0",
   "metadata": {},
   "outputs": [],
   "source": [
    "# Plot Logistic Regression Model\n",
    "# Plot survival rate by age\n",
    "fig, ax = plt.subplots(figsize=(8, 6))\n",
    "titanic_df.plot.scatter(x='age', y='survived', ax=ax, alpha=0.1, color='blue')\n",
    "\n",
    "model = LogisticRegression(max_iter=1000)\n",
    "# Define features (X) and target (y)\n",
    "X_ames = titanic_df[['age']].dropna()  # Drop NaN values for age\n",
    "y_ames = titanic_df['survived'].loc[X_ames.index]  # Align target with features\n",
    "\n",
    "model.fit(X_ames, y_ames)\n",
    "\n",
    "\n",
    "# Plot the logistic regression curve\n",
    "x_line = np.linspace(titanic_df['age'].min(), titanic_df['age'].max(), 100).reshape(-1, 1)\n",
    "coef = model.coef_[0][0]  # Coefficient for age\n",
    "intercept = model.intercept_[0]  # Intercept\n",
    "# Calculate the logistic function\n",
    "y_line = 1 / (1 + np.exp(-(intercept + coef * x_line)))\n",
    "ax.plot(x_line, y_line, color='red', linewidth=2, label='Logistic Regression Curve')\n",
    "ax.set_title('Titanic Dataset: Age vs Survival Probability')\n",
    "\n"
   ]
  },
  {
   "cell_type": "code",
   "execution_count": null,
   "id": "93cfe4f2",
   "metadata": {},
   "outputs": [],
   "source": [
    "model.predict_proba([[84]])"
   ]
  },
  {
   "cell_type": "code",
   "execution_count": null,
   "id": "d2ba9e82",
   "metadata": {},
   "outputs": [],
   "source": [
    "# widen x limits\n",
    "x_min = titanic_df['age'].min() - 300\n",
    "x_max = titanic_df['age'].max() + 300\n",
    "\n",
    "# Plot the logistic regression curve\n",
    "\n",
    "x_line = np.linspace(x_min, x_max, 100).reshape(-1, 1)\n",
    "coef = model.coef_[0][0]  # Coefficient for age\n",
    "intercept = model.intercept_[0]  # Intercept\n",
    "# Calculate the logistic function\n",
    "y_line = 1 / (1 + np.exp(-(intercept + coef * x_line)))\n",
    "fig, ax = plt.subplots(figsize=(8, 6))\n",
    "titanic_df.plot.scatter(x='age', y='survived', ax=ax, alpha=0.1, color='blue')\n",
    "\n",
    "ax.plot(x_line, y_line, color='red', linewidth=2, label='Logistic Regression Curve')\n",
    "ax.set_title('Titanic Dataset: Age vs Survival Probability')\n",
    "ax.set_xlim(x_min, x_max)"
   ]
  },
  {
   "cell_type": "markdown",
   "id": "be303e9b",
   "metadata": {
    "lines_to_next_cell": 0
   },
   "source": [
    "### Preprocessing for Logistic Regression\n",
    "\n",
    "Data preprocessing is often necessary for classification, including handling missing values, encoding categorical features, and scaling numerical features.\n",
    "\n",
    "We'll use `ColumnTransformer` to preprocess numerical and categorical features.\n"
   ]
  },
  {
   "cell_type": "code",
   "execution_count": null,
   "id": "1216d267",
   "metadata": {
    "lines_to_next_cell": 0
   },
   "outputs": [],
   "source": [
    "from sklearn.impute import SimpleImputer\n",
    "\n",
    "#Select features and target\n",
    "# 'Survived' is the target variable (0 = No, 1 = Yes)\n",
    "# Features: 'pclass', 'sex, 'age', 'sibsp', 'parch', 'fare', 'embarked'\n",
    "features = ['pclass', 'sex', 'age', 'sibsp', 'parch', 'fare', 'embarked']\n",
    "target = 'survived'\n",
    "\n",
    "X_titanic = titanic_df[features]\n",
    "y_titanic = titanic_df[target]\n",
    "\n",
    "# Identify numerical and categorical features\n",
    "numerical_features = ['age', 'sibsp', 'parch', 'fare']\n",
    "categorical_features = ['pclass', 'sex', 'embarked']\n",
    "\n",
    "# Create preprocessing pipelines for numerical and categorical features\n",
    "numerical_transformer = Pipeline(steps=[\n",
    "    ('imputer', SimpleImputer(strategy='mean')), # Fill missing Age/Fare with mean\n",
    "    ('scaler', StandardScaler()) # Scale numerical features\n",
    "])\n",
    "\n",
    "categorical_transformer = Pipeline(steps=[\n",
    "    ('imputer', SimpleImputer(strategy='most_frequent')), # Fill missing Embarked with most frequent\n",
    "    ('onehot', OneHotEncoder(handle_unknown='ignore',\n",
    "                             sparse_output=False)) # One-hot encode categorical features\n",
    "])\n",
    "\n",
    "# Create a preprocessor using ColumnTransformer\n",
    "preprocessor = ColumnTransformer(\n",
    "    transformers=[\n",
    "        ('num', numerical_transformer, numerical_features),\n",
    "        ('cat', categorical_transformer, categorical_features)\n",
    "    ])\n",
    "#"
   ]
  },
  {
   "cell_type": "code",
   "execution_count": null,
   "id": "17ea824a",
   "metadata": {},
   "outputs": [],
   "source": [
    "preprocessor.fit_transform(X_titanic).head()"
   ]
  },
  {
   "cell_type": "markdown",
   "id": "202b8a2b",
   "metadata": {
    "lines_to_next_cell": 0
   },
   "source": [
    "### Building and Training the Logistic Regression Pipeline\n",
    "\n",
    "Combine preprocessing and Logistic Regression into a `Pipeline` for consistent application to training and testing data.\n"
   ]
  },
  {
   "cell_type": "code",
   "execution_count": null,
   "id": "db05c6b0",
   "metadata": {
    "lines_to_next_cell": 0
   },
   "outputs": [],
   "source": [
    "# Create the full pipeline\n",
    "logistic_regression_pipeline = Pipeline(steps=[\n",
    "    ('preprocessor', preprocessor),\n",
    "    ('classifier', LogisticRegression(solver='liblinear', random_state=42))\n",
    "])\n",
    "\n",
    "# Split data into training and testing sets\n",
    "X_train_titanic, X_test_titanic, y_train_titanic, y_test_titanic = train_test_split(\n",
    "    X_titanic, y_titanic, test_size=0.2, random_state=42\n",
    ")\n",
    "\n",
    "# Train the model\n",
    "logistic_regression_pipeline.fit(X_train_titanic, y_train_titanic)\n",
    "\n",
    "# Make predictions\n",
    "y_pred_lr = logistic_regression_pipeline.predict(X_test_titanic)\n",
    "\n",
    "# Evaluate the model\n",
    "accuracy_lr = accuracy_score(y_test_titanic, y_pred_lr)\n",
    "precision_lr = precision_score(y_test_titanic, y_pred_lr)\n",
    "recall_lr = recall_score(y_test_titanic, y_pred_lr)\n",
    "f1_lr = f1_score(y_test_titanic, y_pred_lr)\n",
    "conf_matrix_lr = confusion_matrix(y_test_titanic, y_pred_lr)\n",
    "\n",
    "print(f\"Logistic Regression Accuracy: {accuracy_lr:.2f}\")\n",
    "print(f\"Logistic Regression Precision: {precision_lr:.2f}\")\n",
    "print(f\"Logistic Regression Recall: {recall_lr:.2f}\")\n",
    "print(f\"Logistic Regression F1-Score: {f1_lr:.2f}\")\n",
    "print(\"\\nConfusion Matrix:\\n\", conf_matrix_lr)\n",
    "#"
   ]
  },
  {
   "cell_type": "markdown",
   "id": "991f8888",
   "metadata": {
    "lines_to_next_cell": 0
   },
   "source": [
    "# 3.3 K-Nearest Neighbors (KNN)\n",
    "\n",
    "**K-Nearest Neighbors (KNN)** is a simple, non-parametric algorithm for classification and regression. For classification, it classifies a new data point by a majority vote of its 'k' nearest neighbors.\n",
    "\n",
    "## Key Idea:\n",
    "\n",
    "\"Birds of a feather flock together.\" Data points are classified by their closest neighbors.\n",
    "\n",
    "Let's apply KNN to the Titanic dataset.\n"
   ]
  },
  {
   "cell_type": "code",
   "execution_count": null,
   "id": "4276bad1",
   "metadata": {
    "lines_to_next_cell": 2
   },
   "outputs": [],
   "source": [
    "# create a plot to demonstrate k-nearest neighbors\n",
    "from sklearn.neighbors import KNeighborsClassifier\n",
    "# Create a simple dataset\n",
    "data_knn = pd.DataFrame({\n",
    "    'feature1': [1, 2, 3, 4, 5, 6, 7, 8, 9, 10],\n",
    "    'feature2': [1, 2, 1, 2, 3, 3, 4, 4, 5, 5],\n",
    "    'target': [0, 0, 0, 0, 1, 1, 1, 1, 1, 1]\n",
    "})\n",
    "\n",
    "model = KNeighborsClassifier(n_neighbors=3)\n",
    "# Define features (X) and target (y)\n",
    "X_knn = data_knn[['feature1', 'feature2']]\n",
    "y_knn = data_knn['target']\n",
    "model.fit(X_knn, y_knn)"
   ]
  },
  {
   "cell_type": "code",
   "execution_count": null,
   "id": "f8662d8b",
   "metadata": {},
   "outputs": [],
   "source": [
    "# plot points and decision boundary\n",
    "fig, ax = plt.subplots(figsize=(8, 4))\n",
    "\n",
    "data_knn.plot(kind='scatter', x='feature1', y='feature2', c='target', \n",
    "              colormap='viridis', ax=ax, s=100, alpha=0.7)\n",
    "\n",
    "# Create a grid to plot the decision boundary\n",
    "x_min, x_max = data_knn['feature1'].min() - 1, data_knn['feature1'].max() + 1\n",
    "y_min, y_max = data_knn['feature2'].min() - 1, data_knn['feature2'].max() + 1\n",
    "xx, yy = np.meshgrid(np.arange(x_min, x_max, 0.1),\n",
    "                     np.arange(y_min, y_max, 0.1))\n",
    "# Predict on the grid points\n",
    "Z = model.predict(np.c_[xx.ravel(), yy.ravel()])\n",
    "# Reshape the predictions back to the grid shape\n",
    "Z = Z.reshape(xx.shape)\n",
    "# Plot the decision boundary\n",
    "ax.contourf(xx, yy, Z, alpha=0.3, cmap='viridis')\n",
    "ax.set_title('K-Nearest Neighbors Decision Boundary')"
   ]
  },
  {
   "cell_type": "code",
   "execution_count": null,
   "id": "a8a7abb8",
   "metadata": {},
   "outputs": [],
   "source": [
    "from sklearn.neighbors import KNeighborsClassifier\n",
    "\n",
    "# Create the full pipeline for KNN\n",
    "knn_pipeline = Pipeline(steps=[\n",
    "    ('preprocessor', preprocessor),\n",
    "    \n",
    "    ('classifier', KNeighborsClassifier(n_neighbors=5))]) \n",
    "\n",
    "# Train the model\n",
    "knn_pipeline.fit(X_train_titanic, y_train_titanic)\n",
    "\n",
    "# Make predictions\n",
    "y_pred_knn = knn_pipeline.predict(X_test_titanic)\n",
    "\n",
    "# Evaluate the model\n",
    "accuracy_knn = accuracy_score(y_test_titanic, y_pred_knn)\n",
    "precision_knn = precision_score(y_test_titanic, y_pred_knn)\n",
    "recall_knn = recall_score(y_test_titanic, y_pred_knn)\n",
    "f1_knn = f1_score(y_test_titanic, y_pred_knn)\n",
    "conf_matrix_knn = confusion_matrix(y_test_titanic, y_pred_knn)\n",
    "\n",
    "print(f\"K-Nearest Neighbors Accuracy: {accuracy_knn:.2f}\")\n",
    "print(f\"K-Nearest Neighbors Precision: {precision_knn:.2f}\")\n",
    "print(f\"K-Nearest Neighbors Recall: {recall_knn:.2f}\")\n",
    "print(f\"K-Nearest Neighbors F1-Score: {f1_knn:.2f}\")\n",
    "print(\"\\nConfusion Matrix:\\n\", conf_matrix_knn)"
   ]
  },
  {
   "cell_type": "code",
   "execution_count": null,
   "id": "ff0e7c5b",
   "metadata": {},
   "outputs": [],
   "source": []
  },
  {
   "cell_type": "code",
   "execution_count": null,
   "id": "c11ab8f2",
   "metadata": {},
   "outputs": [],
   "source": []
  },
  {
   "cell_type": "markdown",
   "id": "e4f413a2",
   "metadata": {
    "lines_to_next_cell": 0
   },
   "source": [
    "# 3.4 Decision Trees\n",
    "\n",
    "**Decision Trees** are intuitive supervised learning algorithms for classification and regression. They split datasets into smaller subsets based on feature values, forming a tree-like decision structure.\n",
    "\n",
    "## Key Idea:\n",
    "\n",
    "A series of \"if-then-else\" rules. Internal nodes test attributes, branches are outcomes, and leaf nodes are class labels or numerical values.\n",
    "\n",
    "## Advantages:\n",
    "*   Easy to understand and visualize.\n",
    "*   Handles numerical and categorical data.\n",
    "*   Requires minimal preprocessing.\n",
    "\n",
    "## Disadvantages:\n",
    "*   Prone to overfitting.\n",
    "*   Can be unstable.\n",
    "\n",
    "Let's implement a Decision Tree Classifier on the Titanic dataset.\n"
   ]
  },
  {
   "cell_type": "code",
   "execution_count": null,
   "id": "81491054",
   "metadata": {
    "lines_to_next_cell": 2
   },
   "outputs": [],
   "source": [
    "# create a simple demonstration of decision trees\n",
    "from sklearn.tree import DecisionTreeClassifier\n",
    "\n",
    "# Create a simple dataset\n",
    "data_tree = pd.DataFrame({\n",
    "    'feature1': [1, 2, 3, 4, 5, 6, 7, 8, 9, 10],\n",
    "    'feature2': [1, 2, 1, 2, 3, 3, 4, 4, 5, 5],\n",
    "    'target': [0, 0, 0, 0, 1, 1, 1, 1, 1, 1]\n",
    "})\n",
    "# Define features (X) and target (y)\n",
    "X_tree = data_tree[['feature1', 'feature2']]\n",
    "y_tree = data_tree['target']\n",
    "\n",
    "# Create and train the Decision Tree model\n",
    "model_tree = DecisionTreeClassifier(random_state=42)\n",
    "model_tree.fit(X_tree, y_tree)"
   ]
  },
  {
   "cell_type": "code",
   "execution_count": null,
   "id": "6cdea1ac",
   "metadata": {},
   "outputs": [],
   "source": [
    "# plot points and decision boundary\n",
    "fig, ax = plt.subplots(figsize=(8, 4))\n",
    "data_tree.plot(kind='scatter', x='feature1', y='feature2', c='target', \n",
    "              colormap='viridis', ax=ax, s=100, alpha=0.7)\n",
    "# Create a grid to plot the decision boundary\n",
    "x_min, x_max = data_tree['feature1'].min() - 1, data_tree['feature1'].max() + 1\n",
    "y_min, y_max = data_tree['feature2'].min() - 1, data_tree['feature2'].max() + 1\n",
    "xx, yy = np.meshgrid(np.arange(x_min, x_max, 0.1),\n",
    "                     np.arange(y_min, y_max, 0.1))\n",
    "# Predict on the grid points\n",
    "Z = model_tree.predict(np.c_[xx.ravel(), yy.ravel()])\n",
    "# Reshape the predictions back to the grid shape\n",
    "Z = Z.reshape(xx.shape)\n",
    "# Plot the decision boundary\n",
    "ax.contourf(xx, yy, Z, alpha=0.3, cmap='viridis')#"
   ]
  },
  {
   "cell_type": "code",
   "execution_count": null,
   "id": "56ee1127",
   "metadata": {
    "lines_to_next_cell": 2
   },
   "outputs": [],
   "source": [
    "# plot the decision tree\n",
    "from sklearn.tree import plot_tree\n",
    "fig, ax = plt.subplots(figsize=(6,4))\n",
    "plot_tree(model_tree, filled=True, feature_names=X_tree.columns, class_names=['0', '1'], ax=ax,\n",
    "          fontsize=14, rounded=True)"
   ]
  },
  {
   "cell_type": "code",
   "execution_count": null,
   "id": "fa49196c",
   "metadata": {},
   "outputs": [],
   "source": [
    "from sklearn.tree import DecisionTreeClassifier\n",
    "#\n",
    "# Create the full pipeline for Decision Tree\n",
    "# Note: Decision Trees don't strictly require scaling, but the preprocessor handles imputation and one-hot encoding.\n",
    "# We can remove the scaler from the numerical_transformer if we want to be strict about it,\n",
    "# but for consistency in the pipeline structure, we'll keep it.\n",
    "decision_tree_pipeline = Pipeline(steps=[('preprocessor', preprocessor),\n",
    "                                         ('classifier', DecisionTreeClassifier(random_state=42))])\n",
    "\n",
    "# Train the model\n",
    "decision_tree_pipeline.fit(X_train_titanic, y_train_titanic)\n",
    "\n",
    "# Make predictions\n",
    "y_pred_dt = decision_tree_pipeline.predict(X_test_titanic)\n",
    "\n",
    "# Evaluate the model\n",
    "accuracy_dt = accuracy_score(y_test_titanic, y_pred_dt)\n",
    "precision_dt = precision_score(y_test_titanic, y_pred_dt)\n",
    "recall_dt = recall_score(y_test_titanic, y_pred_dt)\n",
    "f1_dt = f1_score(y_test_titanic, y_pred_dt)\n",
    "conf_matrix_dt = confusion_matrix(y_test_titanic, y_pred_dt)\n",
    "\n",
    "print(f\"Decision Tree Accuracy: {accuracy_dt:.2f}\")\n",
    "print(f\"Decision Tree Precision: {precision_dt:.2f}\")\n",
    "print(f\"Decision Tree Recall: {recall_dt:.2f}\")\n",
    "print(f\"Decision Tree F1-Score: {f1_dt:.2f}\")\n",
    "print(\"\\nConfusion Matrix:\\n\", conf_matrix_dt)"
   ]
  },
  {
   "cell_type": "code",
   "execution_count": null,
   "id": "153dedca",
   "metadata": {},
   "outputs": [],
   "source": [
    "# plot tree\n",
    "fig, ax = plt.subplots(figsize=(6, 4))\n",
    "_ = plot_tree(decision_tree_pipeline.named_steps['classifier'], filled=True, \n",
    "          # get column names from the preprocessor\n",
    "           feature_names=preprocessor.get_feature_names_out(), \n",
    "           class_names=['died', 'survived'], ax=ax,\n",
    "           fontsize=2, rounded=True)"
   ]
  },
  {
   "cell_type": "code",
   "execution_count": null,
   "id": "4b2f99f1",
   "metadata": {},
   "outputs": [],
   "source": [
    "# first 3 levels\n",
    "fig, ax = plt.subplots(figsize=(6, 4))\n",
    "_ = plot_tree(decision_tree_pipeline.named_steps['classifier'], filled=True, \n",
    "              max_depth=3,\n",
    "          # get column names from the preprocessor\n",
    "           feature_names=preprocessor.get_feature_names_out(), \n",
    "           class_names=['died', 'survived'], ax=ax,\n",
    "           fontsize=6, rounded=True)"
   ]
  },
  {
   "cell_type": "code",
   "execution_count": null,
   "id": "950f3073",
   "metadata": {},
   "outputs": [],
   "source": []
  },
  {
   "cell_type": "markdown",
   "id": "0bdab9c4",
   "metadata": {
    "lines_to_next_cell": 0
   },
   "source": [
    "# 3.5 Challenge: A classification model\n",
    "\n",
    "Find the `K` value (`n_neighbors`) that yields the best *accuracy* for KNN on the Titanic dataset.\n",
    "\n",
    "Score the result on the test set to avoid overfitting.\n"
   ]
  },
  {
   "cell_type": "markdown",
   "id": "1dec9cc6",
   "metadata": {
    "lines_to_next_cell": 0
   },
   "source": [
    "# 3.6 Solution: A classification model\n"
   ]
  },
  {
   "cell_type": "code",
   "execution_count": null,
   "id": "1bea0ddd",
   "metadata": {},
   "outputs": [],
   "source": []
  },
  {
   "cell_type": "code",
   "execution_count": null,
   "id": "b700d5d5",
   "metadata": {},
   "outputs": [],
   "source": []
  },
  {
   "cell_type": "code",
   "execution_count": null,
   "id": "2c274c80",
   "metadata": {},
   "outputs": [],
   "source": []
  },
  {
   "cell_type": "markdown",
   "id": "13c7c653",
   "metadata": {
    "lines_to_next_cell": 0
   },
   "source": [
    "# 4. Overfitting & Underfitting\n",
    "\n",
    "# 4.1 Understanding Overfitting & Underfitting\n",
    "\n",
    "Ensuring a model performs well on unseen data is key. This involves understanding **overfitting** and **underfitting**, related to the **bias-variance trade-off**.\n",
    "\n",
    "## Underfitting (High Bias)\n",
    "\n",
    "An **underfit** model is too simple, failing to capture training data patterns. It performs poorly on both training and new data.\n",
    "\n",
    "*   **Characteristics:** High training and test error; simplistic model.\n",
    "*   **Causes:** Insufficient model complexity, features, or too much regularization.\n",
    "*   **Analogy:** A student unprepared for a test.\n",
    "\n",
    "## Overfitting (High Variance)\n",
    "\n",
    "An **overfit** model learns training data too well, including noise. It performs excellently on training data but poorly on unseen data.\n",
    "\n",
    "*   **Characteristics:** Very low training error, much higher test error; overly complex model.\n",
    "*   **Causes:** Excessive model complexity, too many features, insufficient training data, or lack of regularization.\n",
    "*   **Analogy:** A student who memorizes answers without understanding concepts.\n",
    "\n",
    "## The Bias-Variance Trade-off\n",
    "\n",
    "*   **Bias:** Error from approximating a complex problem with a simple model. High bias leads to underfitting.\n",
    "*   **Variance:** Model performance variability with different training data subsets. High variance leads to overfitting.\n",
    "\n",
    "The goal is a \"Goldilocks\" model: complex enough to capture patterns, simple enough to generalize.\n"
   ]
  },
  {
   "cell_type": "code",
   "execution_count": null,
   "id": "0818b404",
   "metadata": {},
   "outputs": [],
   "source": []
  },
  {
   "cell_type": "code",
   "execution_count": null,
   "id": "34172f7b",
   "metadata": {},
   "outputs": [],
   "source": []
  },
  {
   "cell_type": "code",
   "execution_count": null,
   "id": "a56cfb8a",
   "metadata": {},
   "outputs": [],
   "source": []
  },
  {
   "cell_type": "markdown",
   "id": "8c7418ec",
   "metadata": {
    "lines_to_next_cell": 0
   },
   "source": [
    "# 4.2 Decision Stumps\n",
    "\n",
    "A **Decision Stump** is a decision tree with `max_depth=1`, making predictions based on a single split. It's a classic example of an **underfit** model due to its simplicity and high bias.\n",
    "\n",
    "Let's demonstrate a decision stump on the Titanic dataset.\n"
   ]
  },
  {
   "cell_type": "code",
   "execution_count": null,
   "id": "596e1f91",
   "metadata": {
    "lines_to_next_cell": 0
   },
   "outputs": [],
   "source": [
    "from sklearn.tree import DecisionTreeClassifier\n",
    "from sklearn.metrics import accuracy_score\n",
    "#\n",
    "# Re-using X_train_titanic, X_test_titanic, y_train_titanic, y_test_titanic, and preprocessor from Section 3\n",
    "# Ensure these are available in the current session or re-run previous cells if needed.\n",
    "#\n",
    "# Create a Decision Stump (max_depth=1)\n",
    "stump_pipeline = Pipeline(steps=[('preprocessor', preprocessor),\n",
    "                                 ('classifier', DecisionTreeClassifier(max_depth=1, random_state=42))])\n",
    "\n",
    "# Train the model\n",
    "stump_pipeline.fit(X_train_titanic, y_train_titanic)\n",
    "\n",
    "# Make predictions\n",
    "y_pred_stump_train = stump_pipeline.predict(X_train_titanic)\n",
    "y_pred_stump_test = stump_pipeline.predict(X_test_titanic)\n",
    "#\n",
    "# Evaluate\n",
    "train_accuracy_stump = accuracy_score(y_train_titanic, y_pred_stump_train)\n",
    "test_accuracy_stump = accuracy_score(y_test_titanic, y_pred_stump_test)\n",
    "\n",
    "print(f\"Decision Stump Training Accuracy: {train_accuracy_stump:.2f}\")\n",
    "print(f\"Decision Stump Test Accuracy: {test_accuracy_stump:.2f}\")\n",
    "#"
   ]
  },
  {
   "cell_type": "markdown",
   "id": "72dfac56",
   "metadata": {
    "lines_to_next_cell": 0
   },
   "source": [
    "Low accuracy on both sets indicates **underfitting**. The model is too simple for the Titanic data.\n"
   ]
  },
  {
   "cell_type": "markdown",
   "id": "54885b3e",
   "metadata": {
    "lines_to_next_cell": 0
   },
   "source": [
    "# 4.3 Overfitting\n",
    "\n",
    "Demonstrate **overfitting** with an unconstrained Decision Tree. It perfectly fits training data (including noise) but generalizes poorly to new data.\n"
   ]
  },
  {
   "cell_type": "code",
   "execution_count": null,
   "id": "6f0a205a",
   "metadata": {},
   "outputs": [],
   "source": [
    "# Create a Decision Tree with no max_depth (allowing it to grow fully)\n",
    "overfit_tree_pipeline = Pipeline(steps=[('preprocessor', preprocessor),\n",
    "                                        ('classifier', DecisionTreeClassifier(random_state=42))]) # No max_depth\n",
    "#\n",
    "# Train the model\n",
    "overfit_tree_pipeline.fit(X_train_titanic, y_train_titanic)\n",
    "\n",
    "# Make predictions\n",
    "y_pred_overfit_train = overfit_tree_pipeline.predict(X_train_titanic)\n",
    "y_pred_overfit_test = overfit_tree_pipeline.predict(X_test_titanic)\n",
    "\n",
    "# Evaluate\n",
    "train_accuracy_overfit = accuracy_score(y_train_titanic, y_pred_overfit_train)\n",
    "test_accuracy_overfit = accuracy_score(y_test_titanic, y_pred_overfit_test)\n",
    "\n",
    "print(f\"Overfit Decision Tree Training Accuracy: {train_accuracy_overfit:.2f}\")\n",
    "print(f\"Overfit Decision Tree Test Accuracy: {test_accuracy_overfit:.2f}\")"
   ]
  },
  {
   "cell_type": "markdown",
   "id": "dd7b8fb9",
   "metadata": {
    "lines_to_next_cell": 0
   },
   "source": [
    "High training accuracy and much lower test accuracy clearly show **overfitting**.\n"
   ]
  },
  {
   "cell_type": "markdown",
   "id": "2eac98d2",
   "metadata": {
    "lines_to_next_cell": 0
   },
   "source": [
    "# 4.4 Cross-validation & Goldilocks\n",
    "\n",
    "**Cross-Validation** provides a robust performance estimate and helps find the \"Goldilocks\" model that balances bias and variance.\n",
    "\n",
    "## K-Fold Cross-Validation\n",
    "\n",
    "1.  Dataset split into K \"folds.\"\n",
    "2.  Model trained K times: one fold for validation, K-1 for training.\n",
    "3.  Performance metric recorded for each iteration.\n",
    "4.  Final performance is the average of K metrics.\n",
    "\n",
    "This ensures comprehensive evaluation and is vital for **hyperparameter tuning**.\n",
    "\n",
    "Let's use `cross_val_score` for K-Fold Cross-Validation on our Decision Tree.\n"
   ]
  },
  {
   "cell_type": "code",
   "execution_count": null,
   "id": "e36ca041",
   "metadata": {},
   "outputs": [],
   "source": [
    "from sklearn.model_selection import cross_val_score\n",
    "#\n",
    "# Create a Decision Tree classifier (we'll try a moderate depth for now)\n",
    "# We'll use the preprocessor from before.\n",
    "tree_classifier = Pipeline(steps=[('preprocessor', preprocessor),\n",
    "                                  ('classifier', DecisionTreeClassifier(max_depth=5, random_state=42))])\n",
    "#\n",
    "# Perform 5-fold cross-validation\n",
    "# 'accuracy' is the scoring metric\n",
    "# cv=5 means 5 folds\n",
    "cv_scores = cross_val_score(tree_classifier, X_titanic, y_titanic, cv=5, scoring='accuracy')\n",
    "\n",
    "print(f\"Cross-validation scores (Accuracy) for each fold: {cv_scores}\")\n",
    "print(f\"Mean Cross-validation Accuracy: {cv_scores.mean():.2f}\")\n",
    "print(f\"Standard Deviation of Cross-validation Accuracy: {cv_scores.std():.2f}\")"
   ]
  },
  {
   "cell_type": "markdown",
   "id": "0ccbbe6f",
   "metadata": {
    "lines_to_next_cell": 0
   },
   "source": [
    "Mean cross-validation accuracy gives a reliable performance estimate. Standard deviation shows variability.\n"
   ]
  },
  {
   "cell_type": "markdown",
   "id": "793bdfb6",
   "metadata": {
    "lines_to_next_cell": 0
   },
   "source": [
    "# 4.5 Challenge: Goldilocks Model\n",
    "\n",
    "Find the \"Goldilocks\" `max_depth` for a `DecisionTreeClassifier` on the Titanic dataset using cross-validation.\n",
    "\n",
    "1.  Re-use `X_titanic`, `y_titanic`, and `preprocessor`.\n",
    "2.  Iterate `max_depth` from 1 to 15.\n",
    "3.  For each `max_depth`:\n",
    "    *   Create a `Pipeline` with `preprocessor` and `DecisionTreeClassifier` (`random_state=42`).\n",
    "    *   Perform 5-fold cross-validation (`scoring='accuracy'`).\n",
    "    *   Print `max_depth` and mean CV accuracy.\n",
    "4.  Identify the `max_depth` with the highest mean accuracy.\n"
   ]
  },
  {
   "cell_type": "code",
   "execution_count": null,
   "id": "2815a52c",
   "metadata": {},
   "outputs": [],
   "source": []
  },
  {
   "cell_type": "code",
   "execution_count": null,
   "id": "7da4c3a9",
   "metadata": {},
   "outputs": [],
   "source": []
  },
  {
   "cell_type": "code",
   "execution_count": null,
   "id": "eafc5310",
   "metadata": {},
   "outputs": [],
   "source": []
  },
  {
   "cell_type": "markdown",
   "id": "5a5ffb75",
   "metadata": {
    "lines_to_next_cell": 0
   },
   "source": [
    "# 4.6 Solution: Goldilocks Model\n"
   ]
  },
  {
   "cell_type": "code",
   "execution_count": null,
   "id": "17a315aa",
   "metadata": {},
   "outputs": [],
   "source": []
  },
  {
   "cell_type": "code",
   "execution_count": null,
   "id": "eb45d256",
   "metadata": {},
   "outputs": [],
   "source": []
  },
  {
   "cell_type": "markdown",
   "id": "1434ee53",
   "metadata": {
    "lines_to_next_cell": 0
   },
   "source": [
    "# 5. Additional Techniques\n",
    "\n",
    "# 5.1 Ensembles: Bagging & Boosting\n",
    "\n",
    "**Ensemble methods** combine multiple models to improve predictive performance, reducing bias, variance, or both.\n",
    "\n",
    "Two main categories: **Bagging** and **Boosting**.\n",
    "\n",
    "## Bagging (Bootstrap Aggregating)\n",
    "\n",
    "Bagging trains multiple models on different random data subsets (bootstrapping). Predictions are combined (averaged for regression, majority vote for classification).\n",
    "\n",
    "*   **Key Idea:** Reduce variance by averaging noise.\n",
    "*   **Example:** **Random Forests**\n",
    "    *   Ensemble of decision trees.\n",
    "    *   Each tree trained on a bootstrap sample and random feature subset.\n",
    "    *   Final prediction by majority vote (classification) or average (regression).\n",
    "    *   Effective, robust to overfitting, handles high-dimensional data.\n"
   ]
  },
  {
   "cell_type": "code",
   "execution_count": null,
   "id": "df42192f",
   "metadata": {},
   "outputs": [],
   "source": [
    "# Bagging with Random Forest\n",
    "from sklearn.ensemble import RandomForestClassifier\n",
    "\n",
    "# Create a Random Forest classifier\n",
    "rf_pipeline = Pipeline(steps=[('preprocessor', preprocessor),\n",
    "                               ('classifier', RandomForestClassifier(n_estimators=100, random_state=42))])\n",
    "# Train the model\n",
    "rf_pipeline.fit(X_train_titanic, y_train_titanic)\n",
    "# Make predictions\n",
    "y_pred_rf = rf_pipeline.predict(X_test_titanic)\n",
    "# Evaluate the model\n",
    "accuracy_rf = accuracy_score(y_test_titanic, y_pred_rf)\n",
    "precision_rf = precision_score(y_test_titanic, y_pred_rf)\n",
    "recall_rf = recall_score(y_test_titanic, y_pred_rf)\n",
    "f1_rf = f1_score(y_test_titanic, y_pred_rf)\n",
    "\n",
    "conf_matrix_rf = confusion_matrix(y_test_titanic, y_pred_rf)\n",
    "print(f\"Random Forest Accuracy: {accuracy_rf:.2f}\")\n",
    "print(f\"Random Forest Precision: {precision_rf:.2f}\")\n",
    "print(f\"Random Forest Recall: {recall_rf:.2f}\")\n",
    "print(f\"Random Forest F1-Score: {f1_rf:.2f}\")\n",
    "print(\"\\nConfusion Matrix:\\n\", conf_matrix_rf)"
   ]
  },
  {
   "cell_type": "markdown",
   "id": "06ccc41c",
   "metadata": {},
   "source": [
    "\n",
    "## Boosting\n",
    "\n",
    "Boosting trains models sequentially, each correcting errors of previous ones. Models focus on misclassified instances.\n",
    "\n",
    "*   **Key Idea:** Reduce bias by iteratively improving predictions.\n",
    "*   **Examples:**\n",
    "    *   **AdaBoost:** Weights misclassified samples.\n",
    "    *   **Gradient Boosting Machines (GBM):** Builds trees to predict residuals.\n",
    "    *   **XGBoost:** Optimized gradient boosting, fast and performant, includes regularization.\n",
    "\n",
    "Ensembles are often preferred for state-of-the-art performance.\n"
   ]
  },
  {
   "cell_type": "code",
   "execution_count": null,
   "id": "4fa1a50e",
   "metadata": {},
   "outputs": [],
   "source": [
    "# boosting with XGBoost\n",
    "from xgboost import XGBClassifier\n",
    "\n",
    "# Create an XGBoost classifier\n",
    "# don't need to scale or one-hot encode, XGBoost handles categorical features internally\n",
    "xgb = XGBClassifier(enable_categorical=True, random_state=42)\n",
    "\n",
    "xgb.fit(X_train_titanic.astype(\n",
    "    {col: 'category' for col in categorical_features}\n",
    "), y_train_titanic)\n",
    "\n",
    "# Make predictions\n",
    "y_pred_xgb = xgb.predict(X_test_titanic.astype(\n",
    "    {col: 'category' for col in categorical_features}\n",
    "))\n",
    "# Evaluate the model\n",
    "accuracy_xgb = accuracy_score(y_test_titanic, y_pred_xgb)\n",
    "precision_xgb = precision_score(y_test_titanic, y_pred_xgb)\n",
    "recall_xgb = recall_score(y_test_titanic, y_pred_xgb)\n",
    "f1_xgb = f1_score(y_test_titanic, y_pred_xgb)\n",
    "conf_matrix_xgb = confusion_matrix(y_test_titanic, y_pred_xgb)\n",
    "\n",
    "print(f\"XGBoost Accuracy: {accuracy_xgb:.2f}\")\n",
    "print(f\"XGBoost Precision: {precision_xgb:.2f}\")\n",
    "print(f\"XGBoost Recall: {recall_xgb:.2f}\")\n",
    "print(f\"XGBoost F1-Score: {f1_xgb:.2f}\")\n",
    "print(\"\\nConfusion Matrix:\\n\", conf_matrix_xgb)"
   ]
  },
  {
   "cell_type": "code",
   "execution_count": null,
   "id": "8a59d0a2",
   "metadata": {},
   "outputs": [],
   "source": []
  },
  {
   "cell_type": "code",
   "execution_count": null,
   "id": "64454e65",
   "metadata": {},
   "outputs": [],
   "source": []
  },
  {
   "cell_type": "markdown",
   "id": "50c0de3e",
   "metadata": {
    "lines_to_next_cell": 0
   },
   "source": [
    "# 5.2 Tuning Hyperparameters\n",
    "\n",
    "Machine learning models have:\n",
    "\n",
    "*   **Model Parameters:** Learned during training.\n",
    "*   **Hyperparameters:** External settings, set before training (e.g., `max_depth`).\n",
    "\n",
    "**Hyperparameter tuning** finds optimal hyperparameters to improve model performance and prevent under/overfitting.\n",
    "\n",
    "## Grid Search Cross-Validation (`GridSearchCV`)\n",
    "\n",
    "`GridSearchCV` systematically tunes hyperparameters:\n",
    "\n",
    "1.  Define a grid of hyperparameter values.\n",
    "2.  For each combination:\n",
    "    *   Train model using K-Fold Cross-Validation.\n",
    "    *   Record average performance.\n",
    "3.  Selects the best performing combination.\n",
    "\n",
    "This exhaustive method guarantees finding the best combination within the grid.\n",
    "\n",
    "Let's tune a `RandomForestClassifier` using `GridSearchCV`.\n"
   ]
  },
  {
   "cell_type": "code",
   "execution_count": null,
   "id": "0da54011",
   "metadata": {},
   "outputs": [],
   "source": [
    "from sklearn.ensemble import RandomForestClassifier\n",
    "from sklearn.model_selection import GridSearchCV\n",
    "from sklearn.metrics import accuracy_score\n",
    "#\n",
    "# Re-using X_titanic, y_titanic, and preprocessor from previous sections\n",
    "# Ensure these are available in the current session or re-run previous cells if needed.\n",
    "#\n",
    "# Define the pipeline with a RandomForestClassifier placeholder\n",
    "rf_pipeline = Pipeline(steps=[('preprocessor', preprocessor),\n",
    "                              ('classifier', RandomForestClassifier(random_state=42))])\n",
    "\n",
    "# Define the grid of hyperparameters to search\n",
    "# Note: Hyperparameter names in GridSearchCV for pipelines follow the format 'stepname__parametername'\n",
    "param_grid = {\n",
    "    'classifier__n_estimators': [50, 100, 200], # Number of trees in the forest\n",
    "    'classifier__max_depth': [None, 5, 10] # Maximum depth of the tree\n",
    "}\n",
    "\n",
    "# Create GridSearchCV object\n",
    "# cv=5 for 5-fold cross-validation\n",
    "# scoring='accuracy' to optimize for accuracy\n",
    "# n_jobs=-1 uses all available CPU cores\n",
    "grid_search = GridSearchCV(rf_pipeline, param_grid, cv=5, scoring='accuracy', n_jobs=-1, verbose=1)\n",
    "\n",
    "# Perform the grid search on the full dataset (GridSearchCV handles splitting internally)\n",
    "grid_search.fit(X_titanic, y_titanic)\n",
    "\n",
    "print(f\"Best parameters found: {grid_search.best_params_}\")\n",
    "print(f\"Best cross-validation accuracy: {grid_search.best_score_:.2f}\")"
   ]
  },
  {
   "cell_type": "code",
   "execution_count": null,
   "id": "9a780de2",
   "metadata": {},
   "outputs": [],
   "source": [
    "# The best model is available via grid_search.best_estimator_\n",
    "best_rf_model = grid_search.best_estimator_\n",
    "\n",
    "# Evaluate on the test set (if you had a separate, untouched test set)\n",
    "# For demonstration, we'll use the original X_test_titanic, y_test_titanic from Section 3\n",
    "# In a real scenario, you'd split your data into train/validation/test *before* GridSearchCV.\n",
    "# Here, GridSearchCV uses cross-validation on X_titanic, y_titanic, so its best_score_ is a good estimate.\n",
    "# If you want to evaluate on a truly unseen test set, you'd need to split X_titanic, y_titanic once at the beginning.\n",
    "#\n",
    "# For consistency with previous sections, let's re-split the data for final evaluation\n",
    "X_train_final, X_test_final, y_train_final, y_test_final = train_test_split(\n",
    "    X_titanic, y_titanic, test_size=0.2, random_state=42\n",
    ")\n",
    "\n",
    "# Train the best model on the full training data (or use grid_search.best_estimator_ directly if it was fit on X_train_final)\n",
    "# Note: grid_search.best_estimator_ is already trained on the best parameters using the full X_titanic, y_titanic\n",
    "# For a proper final evaluation on an unseen test set, you'd typically refit the best_estimator_ on the *entire* training set\n",
    "# (X_train_final, y_train_final) and then evaluate on X_test_final, y_test_final.\n",
    "# However, GridSearchCV's `refit=True` (default) means `best_estimator_` is refit on the *entire* dataset passed to `.fit()`.\n",
    "# So, for a truly held-out test set, you'd do:\n",
    "grid_search.fit(X_train_final, y_train_final)\n",
    "y_pred_tuned = grid_search.predict(X_test_final)\n",
    "accuracy_tuned = accuracy_score(y_test_final, y_pred_tuned)\n",
    "print(f\"Accuracy of best model on held-out test set: {accuracy_tuned:.2f}\")"
   ]
  },
  {
   "cell_type": "code",
   "execution_count": null,
   "id": "a78d0a3d",
   "metadata": {},
   "outputs": [],
   "source": []
  },
  {
   "cell_type": "code",
   "execution_count": null,
   "id": "b18c0683",
   "metadata": {},
   "outputs": [],
   "source": []
  },
  {
   "cell_type": "markdown",
   "id": "5b6e8536",
   "metadata": {
    "lines_to_next_cell": 0
   },
   "source": [
    "# 5.3 Explaining Simple Models\n",
    "\n",
    "Understanding model predictions is crucial for trust and debugging. This is **model interpretability**.\n",
    "\n",
    "Simpler models are often straightforward to interpret:\n",
    "\n",
    "*   **Linear Regression:** Coefficients show feature impact.\n",
    "*   **Logistic Regression:** Coefficients indicate relationship with log-odds.\n",
    "*   **Decision Trees:** Tree structure provides explicit rules; feature importance shows contribution.\n",
    "\n",
    "Let's look at interpreting these models.\n",
    "\n",
    "## Interpreting Logistic Regression Coefficients\n",
    "\n",
    "Coefficients (`coef_`) and intercept (`intercept_`) show feature impact on log-odds of the target. Map them back to original feature names for interpretability.\n"
   ]
  },
  {
   "cell_type": "code",
   "execution_count": null,
   "id": "636d9edf",
   "metadata": {},
   "outputs": [],
   "source": [
    "# Re-using logistic_regression_pipeline from Section 3.2\n",
    "# Ensure it's trained: logistic_regression_pipeline.fit(X_train_titanic, y_train_titanic)\n",
    "\n",
    "# Get the trained Logistic Regression classifier\n",
    "lr_classifier = logistic_regression_pipeline.named_steps['classifier']\n",
    "\n",
    "# Get the preprocessor\n",
    "lr_preprocessor = logistic_regression_pipeline.named_steps['preprocessor']\n",
    "\n",
    "# Get feature names after preprocessing\n",
    "# Numerical features are scaled, categorical features are one-hot encoded\n",
    "processed_feature_names = lr_preprocessor.get_feature_names_out()\n",
    "\n",
    "# Create a DataFrame for coefficients\n",
    "lr_coefficients = pd.DataFrame({\n",
    "    'Feature': processed_feature_names,\n",
    "    'Coefficient': lr_classifier.coef_[0] # For binary classification, there's one row of coefficients\n",
    "})\n",
    "\n",
    "print(\"Logistic Regression Coefficients:\")\n",
    "print(lr_coefficients.sort_values(by='Coefficient', ascending=False))\n",
    "print(f\"\\nLogistic Regression Intercept: {lr_classifier.intercept_[0]:.4f}\")"
   ]
  },
  {
   "cell_type": "markdown",
   "id": "f56c54f1",
   "metadata": {
    "lines_to_next_cell": 0
   },
   "source": [
    "**Interpretation:**\n",
    "*   Positive coefficient: Feature increase (or presence) increases log-odds of survival.\n",
    "*   Negative coefficient: Feature increase (or presence) decreases log-odds of survival.\n",
    "*   Magnitude: Strength of relationship.\n",
    "\n",
    "## Interpreting Decision Tree Feature Importances\n",
    "\n",
    "Decision Trees (and ensembles like Random Forests) have `feature_importances_`. This shows relative importance based on impurity reduction.\n"
   ]
  },
  {
   "cell_type": "code",
   "execution_count": null,
   "id": "fc6aaa4f",
   "metadata": {},
   "outputs": [],
   "source": [
    "# Re-using decision_tree_pipeline from Section 3.4\n",
    "# Ensure it's trained: decision_tree_pipeline.fit(X_train_titanic, y_train_titanic)\n",
    "\n",
    "# Get the trained Decision Tree classifier\n",
    "dt_classifier = decision_tree_pipeline.named_steps['classifier']\n",
    "\n",
    "# Get the preprocessor\n",
    "dt_preprocessor = decision_tree_pipeline.named_steps['preprocessor']\n",
    "\n",
    "# Get feature names after preprocessing\n",
    "processed_feature_names_dt = dt_preprocessor.get_feature_names_out()\n",
    "\n",
    "# Create a DataFrame for feature importances\n",
    "dt_feature_importances = pd.DataFrame({\n",
    "    'Feature': processed_feature_names_dt,\n",
    "    'Importance': dt_classifier.feature_importances_\n",
    "})\n",
    "\n",
    "print(\"Decision Tree Feature Importances:\")\n",
    "print(dt_feature_importances.sort_values(by='Importance', ascending=False))"
   ]
  },
  {
   "cell_type": "markdown",
   "id": "a355281f",
   "metadata": {
    "lines_to_next_cell": 0
   },
   "source": [
    "**Interpretation:**\n",
    "*   Higher importance: Greater contribution to predictions.\n",
    "*   Titanic example: `Sex_male`, `Sex_female`, `Fare`, `Age` are often important.\n",
    "\n",
    "For complex \"black box\" models (e.g., XGBoost, Neural Networks), advanced techniques like SHAP are needed.\n"
   ]
  },
  {
   "cell_type": "code",
   "execution_count": null,
   "id": "4f697e88",
   "metadata": {},
   "outputs": [],
   "source": []
  },
  {
   "cell_type": "code",
   "execution_count": null,
   "id": "b7347105",
   "metadata": {},
   "outputs": [],
   "source": []
  },
  {
   "cell_type": "code",
   "execution_count": null,
   "id": "f63b6032",
   "metadata": {},
   "outputs": [],
   "source": []
  },
  {
   "cell_type": "markdown",
   "id": "981819b9",
   "metadata": {
    "lines_to_next_cell": 0
   },
   "source": [
    "# 5.4 SHAP\n",
    "\n",
    "**SHAP (SHapley Additive exPlanations)** is a powerful framework for explaining any machine learning model's output. It uses Shapley values from game theory to attribute each feature's contribution to a prediction.\n",
    "\n",
    "SHAP values show how each feature shifts the prediction from a baseline (e.g., average prediction) to the actual prediction.\n",
    "\n",
    "*   **Key Idea:** Quantify each feature's contribution to an individual prediction.\n",
    "*   **Advantages:**\n",
    "    *   **Model-agnostic:** Works with any model.\n",
    "    *   **Local interpretability:** Explains individual predictions.\n",
    "    *   **Global interpretability:** Aggregates explanations for overall understanding.\n",
    "    *   **Consistent:** Theoretically sound.\n",
    "\n",
    "Let's demonstrate SHAP with an XGBoost model on the Titanic dataset.\n"
   ]
  },
  {
   "cell_type": "code",
   "execution_count": null,
   "id": "2a0d91dc",
   "metadata": {},
   "outputs": [],
   "source": [
    "X_train_titanic.dtypes"
   ]
  },
  {
   "cell_type": "code",
   "execution_count": null,
   "id": "10a2ad0f",
   "metadata": {},
   "outputs": [],
   "source": [
    "import xgboost as xgb\n",
    "import shap\n",
    "import matplotlib.pyplot as plt\n",
    "\n",
    "xg_model = xgb.XGBClassifier(enable_categorical=True, random_state=42)\n",
    "\n",
    "# Train the model\n",
    "xg_model.fit(X_train_titanic.astype({'sex': 'category', 'embarked': 'category'}), y_train_titanic)\n",
    "\n",
    "# Create a SHAP explainer object\n",
    "# For tree models, shap.TreeExplainer is efficient\n",
    "explainer = shap.TreeExplainer(xg_model)\n",
    "\n",
    "# Calculate SHAP values for the test set\n",
    "shap_values = explainer(X_test_titanic.astype({'sex': 'category', 'embarked': 'category'}))"
   ]
  },
  {
   "cell_type": "markdown",
   "id": "1752094b",
   "metadata": {
    "lines_to_next_cell": 0
   },
   "source": [
    "## Visualizing SHAP Explanations\n",
    "\n",
    "SHAP offers various visualization tools.\n",
    "\n",
    "**Summary Plot (Global Feature Importance):** Shows overall feature impact.\n"
   ]
  },
  {
   "cell_type": "code",
   "execution_count": null,
   "id": "dd077073",
   "metadata": {
    "lines_to_next_cell": 2
   },
   "outputs": [],
   "source": [
    "shap.plots.beeswarm(shap_values)"
   ]
  },
  {
   "cell_type": "markdown",
   "id": "56facac4",
   "metadata": {
    "lines_to_next_cell": 0
   },
   "source": [
    "**Summary Plot (Feature Impact and Direction):** Shows how each feature affects individual predictions.\n"
   ]
  },
  {
   "cell_type": "code",
   "execution_count": null,
   "id": "bac6a745",
   "metadata": {},
   "outputs": [],
   "source": [
    "shap.plots.scatter(shap_values[:, 'fare'])"
   ]
  },
  {
   "cell_type": "code",
   "execution_count": null,
   "id": "ec493234",
   "metadata": {},
   "outputs": [],
   "source": [
    "shap.plots.scatter(shap_values[:, 'pclass'])"
   ]
  },
  {
   "cell_type": "code",
   "execution_count": null,
   "id": "5c7ebab1",
   "metadata": {},
   "outputs": [],
   "source": [
    "shap.plots.scatter(shap_values[:, 'age'])"
   ]
  },
  {
   "cell_type": "markdown",
   "id": "3afed94f",
   "metadata": {
    "lines_to_next_cell": 0
   },
   "source": [
    "\n",
    "# 5.5 Challenge: XGBoost Model\n",
    "\n",
    "Build and tune an XGBoost classification model for the Titanic dataset.\n",
    "\n",
    "Use grid search with `n_estimators`, `max_depth`, and `learning_rate` to try and beat the out-of-the-box model.\n"
   ]
  },
  {
   "cell_type": "code",
   "execution_count": null,
   "id": "0b95ca30",
   "metadata": {},
   "outputs": [],
   "source": []
  },
  {
   "cell_type": "code",
   "execution_count": null,
   "id": "73399509",
   "metadata": {},
   "outputs": [],
   "source": []
  },
  {
   "cell_type": "markdown",
   "id": "bd4c7e8e",
   "metadata": {
    "lines_to_next_cell": 0
   },
   "source": [
    "# 5.6 Solution: XGBoost Model\n"
   ]
  },
  {
   "cell_type": "code",
   "execution_count": null,
   "id": "d914238e",
   "metadata": {},
   "outputs": [],
   "source": []
  },
  {
   "cell_type": "code",
   "execution_count": null,
   "id": "f6d2db26",
   "metadata": {},
   "outputs": [],
   "source": []
  },
  {
   "cell_type": "markdown",
   "id": "05a567bc",
   "metadata": {
    "lines_to_next_cell": 0
   },
   "source": [
    "# 6. Deployment\n",
    "\n",
    "# 6.1 Deploying with Flask\n",
    "\n",
    "**Deployment** makes trained ML models accessible. **Flask** is a lightweight Python web framework for deploying models as web services (APIs).\n",
    "\n",
    "## Steps for Flask Deployment:\n",
    "\n",
    "1.  **Train and Save Model:** Save the trained model (and preprocessor) to a file (e.g., `joblib`).\n",
    "2.  **Create Flask App:** Write `app.py` to set up a Flask server.\n",
    "3.  **Load Model:** Load the saved model when the app starts.\n",
    "4.  **Define API Endpoint:** Create a route (e.g., `/predict`) to:\n",
    "    *   Receive input data (e.g., JSON POST request).\n",
    "    *   Preprocess data.\n",
    "    *   Make prediction.\n",
    "    *   Return prediction as JSON.\n",
    "\n",
    "Let's save our best XGBoost model and create `app.py`.\n"
   ]
  },
  {
   "cell_type": "code",
   "execution_count": null,
   "id": "617c4dee",
   "metadata": {
    "lines_to_next_cell": 2
   },
   "outputs": [],
   "source": [
    "!mkdir app"
   ]
  },
  {
   "cell_type": "code",
   "execution_count": null,
   "id": "dcdaae23",
   "metadata": {},
   "outputs": [],
   "source": [
    "import joblib\n",
    "import os\n",
    "\n",
    "# Ensure the best_xgb_model and preprocessor are available from Section 5.6\n",
    "# If running this cell independently, you might need to re-run Section 5.6's solution cell.\n",
    "\n",
    "# The best_xgb_model is a Pipeline object, which includes the preprocessor and the classifier.\n",
    "# This makes saving and loading very convenient.\n",
    "\n",
    "# Define the filename for the saved model\n",
    "model_filename = 'app/titanic_xgb_model.joblib'\n",
    "\n",
    "# Save the entire pipeline\n",
    "joblib.dump(xg_model, model_filename) # Changed from xg_model to best_xgb_model\n",
    "\n",
    "print(f\"Model saved to {model_filename}\")\n",
    "print(f\"File size: {os.path.getsize(model_filename) / (1024*1024):.2f} MB\")"
   ]
  },
  {
   "cell_type": "markdown",
   "id": "7d0b04d5",
   "metadata": {
    "lines_to_next_cell": 0
   },
   "source": [
    "Now, let's create the `app.py` file that will serve this model.\n",
    "You would typically run this `app.py` file from your terminal (e.g., `python app.py`).\n"
   ]
  },
  {
   "cell_type": "markdown",
   "id": "6f324852",
   "metadata": {},
   "source": []
  },
  {
   "cell_type": "code",
   "execution_count": null,
   "id": "bde4a498",
   "metadata": {},
   "outputs": [],
   "source": [
    "%%writefile app/app.py\n",
    "# app.py\n",
    "from flask import Flask, request, jsonify\n",
    "import joblib\n",
    "import pandas as pd\n",
    "import os\n",
    "\n",
    "app = Flask(__name__)\n",
    "\n",
    "# Load the trained model pipeline\n",
    "# This will load both the preprocessor and the classifier\n",
    "try:\n",
    "    # Adjust path if necessary, assuming model is in the same directory\n",
    "    model_path = 'titanic_xgb_model.joblib'\n",
    "    if not os.path.exists(model_path):\n",
    "        print(f\"Error: Model file not found at {model_path}. Please ensure it's saved.\")\n",
    "        model_pipeline = None\n",
    "    else:\n",
    "        model_pipeline = joblib.load(model_path)\n",
    "        print(\"Model loaded successfully!\")\n",
    "except Exception as e:\n",
    "    print(f\"Error loading model: {e}\")\n",
    "    model_pipeline = None\n",
    "\n",
    "# Define the features that the model expects, in the correct order\n",
    "# These should match the 'features' list used during training\n",
    "EXPECTED_FEATURES = ['pclass', 'sex', 'age', 'sibsp', 'parch', 'fare', 'embarked']\n",
    "\n",
    "@app.route('/')\n",
    "def home():\n",
    "    \"\"\"Simple root endpoint to confirm the API is running.\"\"\"\n",
    "    return \"Welcome to the Titanic Survival Predictor API!\"\n",
    "\n",
    "@app.route('/predict', methods=['POST'])\n",
    "def predict():\n",
    "    if model_pipeline is None:\n",
    "        return jsonify({'error': 'Model not loaded'}), 500\n",
    "\n",
    "    data = request.get_json(force=True)\n",
    "\n",
    "    if not data:\n",
    "        return jsonify({'error': 'No data provided'}), 400\n",
    "\n",
    "    # Convert input data to a pandas DataFrame\n",
    "    # It's crucial that the column names match EXPECTED_FEATURES\n",
    "    try:\n",
    "        input_df = (pd.DataFrame([data], columns=EXPECTED_FEATURES)\n",
    "        .astype({\n",
    "            'embarked': 'category', 'sex': 'category'})\n",
    "        )\n",
    "    except KeyError as e:\n",
    "        return jsonify({'error': f\"Missing expected feature: {e}\"}), 400\n",
    "    except Exception as e:\n",
    "        return jsonify({'error': f\"Invalid input data format: {e}\"}), 400\n",
    "\n",
    "    # Make prediction\n",
    "    try:\n",
    "        prediction = model_pipeline.predict(input_df)\n",
    "        prediction_proba = model_pipeline.predict_proba(input_df)\n",
    "\n",
    "        # The prediction is a numpy array, convert to list/int for JSON\n",
    "        result = {\n",
    "            'prediction': int(prediction[0]),\n",
    "            'probability_not_survived': float(prediction_proba[0][0]),\n",
    "            'probability_survived': float(prediction_proba[0][1])\n",
    "        }\n",
    "        return jsonify(result)\n",
    "    except Exception as e:\n",
    "        # Log the full error for debugging\n",
    "        app.logger.error(f\"Prediction failed: {e}\", exc_info=True)\n",
    "        return jsonify({'error': f\"Prediction failed: {e}. Check server logs for details.\"}), 500\n",
    "\n",
    "if __name__ == '__main__':\n",
    "    # Run the Flask app\n",
    "    # In a production environment, use a production-ready WSGI server like Gunicorn\n",
    "    app.run(host='0.0.0.0', port=5555, debug=True)\n",
    "\n"
   ]
  },
  {
   "cell_type": "markdown",
   "id": "869e659b",
   "metadata": {
    "lines_to_next_cell": 0
   },
   "source": [
    "\n",
    "**To run the Flask app:**\n",
    "1.  Save the code above as `app.py` in the `app` directory.\n",
    "2.  Open your terminal.\n",
    "3.  Navigate to that directory: `cd app`\n",
    "4.  Run: `uv run python app.py`\n",
    "\n",
    "The Flask app should run on `http://127.0.0.1:5555/`.\n"
   ]
  },
  {
   "cell_type": "markdown",
   "id": "0e50e74d",
   "metadata": {},
   "source": [
    "\n",
    "# 6.2 Querying the Model\n",
    "\n",
    "Send requests to the Flask app's `/predict` endpoint using `requests` to get predictions.\n",
    "\n",
    "**Important:** Ensure `app.py` is running in a separate terminal before executing.\n"
   ]
  },
  {
   "cell_type": "code",
   "execution_count": null,
   "id": "ae19153a",
   "metadata": {},
   "outputs": [],
   "source": [
    "import requests\n",
    "import json\n",
    "\n",
    "# Define the URL of your Flask API endpoint\n",
    "url = 'http://127.0.0.1:5555/predict'\n",
    "\n",
    "\n",
    "def predict(data, url):\n",
    "    print(f\"Sending data: {data}\") # Changed from passenger_data to data for clarity\n",
    "\n",
    "    # Send a POST request with JSON data\n",
    "    try:\n",
    "        response = requests.post(url, json=data)\n",
    "        response.raise_for_status() # Raise an exception for HTTP errors (4xx or 5xx)\n",
    "\n",
    "        # Parse the JSON response\n",
    "        prediction_result = response.json()\n",
    "\n",
    "        print(\"\\nPrediction Result:\")\n",
    "        print(f\"  Survival Prediction (0=No, 1=Yes): {prediction_result['prediction']}\")\n",
    "        print(f\"  Probability of Not Surviving: {prediction_result['probability_not_survived']:.4f}\")\n",
    "        print(f\"  Probability of Surviving: {prediction_result['probability_survived']:.4f}\")\n",
    "\n",
    "    except requests.exceptions.ConnectionError as e:\n",
    "        print(f\"Error: Could not connect to the Flask server. Is app.py running? ({e})\")\n",
    "    except requests.exceptions.HTTPError as e:\n",
    "        print(f\"HTTP Error: {e.response.status_code} - {e.response.text}\")\n",
    "        raise\n",
    "    except Exception as e:\n",
    "        print(f\"An unexpected error occurred: {e}\")\n",
    "        raise\n",
    "\n",
    "# Example input data for a passenger\n",
    "# This data should match the features used during model training\n",
    "passenger_data = {\n",
    "    \"pclass\": 3,\n",
    "    \"sex\": \"male\",\n",
    "    \"age\": 55.0,\n",
    "    \"sibsp\": 1,\n",
    "    \"parch\": 2,\n",
    "    \"fare\": 151.25,\n",
    "    \"embarked\": \"S\"\n",
    "}\n",
    "\n",
    "predict(passenger_data, url)"
   ]
  },
  {
   "cell_type": "code",
   "execution_count": null,
   "id": "59b87362",
   "metadata": {},
   "outputs": [],
   "source": [
    "# female passenger example\n",
    "passenger_data = {\n",
    "    \"pclass\": 1,\n",
    "    \"sex\": \"female\",\n",
    "    \"age\": 35.0,\n",
    "    \"sibsp\": 0,\n",
    "    \"parch\": 0,\n",
    "    \"fare\": 71.2833,\n",
    "    \"embarked\": \"C\"\n",
    "}\n",
    "\n",
    "predict(passenger_data, url)"
   ]
  },
  {
   "cell_type": "markdown",
   "id": "40e14a4d",
   "metadata": {
    "lines_to_next_cell": 0
   },
   "source": [
    "# 6.3 Challenge: Deployment\n",
    "\n",
    "Create a Flask application for your optimized XGBoost model.\n",
    "\n",
    "Test deployment by sending a POST request with sample data to `/predict`.\n"
   ]
  },
  {
   "cell_type": "markdown",
   "id": "cd75d006",
   "metadata": {
    "lines_to_next_cell": 0
   },
   "source": [
    "# 6.4 Solution: Deployment\n",
    "\n",
    "Save the `best_xgb_model` from Section 5.6 to `app/titanic_xgb_model.joblib`.\n",
    "\n",
    "Then, use the client-side Python script to test the deployed Flask application.\n"
   ]
  }
 ],
 "metadata": {
  "jupytext": {
   "cell_metadata_filter": "-all",
   "formats": "ipynb,py:percent"
  },
  "kernelspec": {
   "display_name": "applied-machine-learning-supervised-learning-3923366",
   "language": "python",
   "name": "python3"
  },
  "language_info": {
   "codemirror_mode": {
    "name": "ipython",
    "version": 3
   },
   "file_extension": ".py",
   "mimetype": "text/x-python",
   "name": "python",
   "nbconvert_exporter": "python",
   "pygments_lexer": "ipython3",
   "version": "3.10.12"
  }
 },
 "nbformat": 4,
 "nbformat_minor": 5
}
